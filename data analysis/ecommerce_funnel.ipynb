{
 "cells": [
  {
   "cell_type": "code",
   "execution_count": 1,
   "id": "ccdaafa0-47d7-4a56-bd6e-37b14d1fba93",
   "metadata": {},
   "outputs": [],
   "source": [
    "import pandas as pd\n",
    "import numpy as np\n",
    "import seaborn as sns\n",
    "import plotly.express as px\n",
    "import matplotlib.pyplot as plt\n",
    "plt.rc('font', family='Malgun Gothic')\n",
    "plt.rcParams['axes.unicode_minus'] = False\n",
    "\n",
    "import warnings\n",
    "warnings.filterwarnings(action='ignore')\n",
    "\n",
    "from datetime import timedelta"
   ]
  },
  {
   "cell_type": "code",
   "execution_count": 2,
   "id": "b6d9926a-4c6e-41b6-8c35-a2a7753a4d4a",
   "metadata": {},
   "outputs": [],
   "source": [
    "# 대형 온라인 샵의 7개월(2019 10월 ~ 2020년 4월) 행동 데이터\n",
    "big_behavior = pd.read_csv('ecommerce/2019-Nov.csv')"
   ]
  },
  {
   "cell_type": "markdown",
   "id": "5ee0238e-9ece-4557-8821-897d733fc17e",
   "metadata": {},
   "source": [
    "**온라인 매장 행동 데이터**"
   ]
  },
  {
   "cell_type": "code",
   "execution_count": 3,
   "id": "424e107c-92e5-470e-949e-96e71c807662",
   "metadata": {},
   "outputs": [
    {
     "data": {
      "text/html": [
       "<div>\n",
       "<style scoped>\n",
       "    .dataframe tbody tr th:only-of-type {\n",
       "        vertical-align: middle;\n",
       "    }\n",
       "\n",
       "    .dataframe tbody tr th {\n",
       "        vertical-align: top;\n",
       "    }\n",
       "\n",
       "    .dataframe thead th {\n",
       "        text-align: right;\n",
       "    }\n",
       "</style>\n",
       "<table border=\"1\" class=\"dataframe\">\n",
       "  <thead>\n",
       "    <tr style=\"text-align: right;\">\n",
       "      <th></th>\n",
       "      <th>event_time</th>\n",
       "      <th>event_type</th>\n",
       "      <th>product_id</th>\n",
       "      <th>category_id</th>\n",
       "      <th>category_code</th>\n",
       "      <th>brand</th>\n",
       "      <th>price</th>\n",
       "      <th>user_id</th>\n",
       "      <th>user_session</th>\n",
       "    </tr>\n",
       "  </thead>\n",
       "  <tbody>\n",
       "    <tr>\n",
       "      <th>0</th>\n",
       "      <td>2019-11-01 00:00:00 UTC</td>\n",
       "      <td>view</td>\n",
       "      <td>1003461</td>\n",
       "      <td>2053013555631882655</td>\n",
       "      <td>electronics.smartphone</td>\n",
       "      <td>xiaomi</td>\n",
       "      <td>489.07</td>\n",
       "      <td>520088904</td>\n",
       "      <td>4d3b30da-a5e4-49df-b1a8-ba5943f1dd33</td>\n",
       "    </tr>\n",
       "    <tr>\n",
       "      <th>1</th>\n",
       "      <td>2019-11-01 00:00:00 UTC</td>\n",
       "      <td>view</td>\n",
       "      <td>5000088</td>\n",
       "      <td>2053013566100866035</td>\n",
       "      <td>appliances.sewing_machine</td>\n",
       "      <td>janome</td>\n",
       "      <td>293.65</td>\n",
       "      <td>530496790</td>\n",
       "      <td>8e5f4f83-366c-4f70-860e-ca7417414283</td>\n",
       "    </tr>\n",
       "    <tr>\n",
       "      <th>2</th>\n",
       "      <td>2019-11-01 00:00:01 UTC</td>\n",
       "      <td>view</td>\n",
       "      <td>17302664</td>\n",
       "      <td>2053013553853497655</td>\n",
       "      <td>NaN</td>\n",
       "      <td>creed</td>\n",
       "      <td>28.31</td>\n",
       "      <td>561587266</td>\n",
       "      <td>755422e7-9040-477b-9bd2-6a6e8fd97387</td>\n",
       "    </tr>\n",
       "    <tr>\n",
       "      <th>3</th>\n",
       "      <td>2019-11-01 00:00:01 UTC</td>\n",
       "      <td>view</td>\n",
       "      <td>3601530</td>\n",
       "      <td>2053013563810775923</td>\n",
       "      <td>appliances.kitchen.washer</td>\n",
       "      <td>lg</td>\n",
       "      <td>712.87</td>\n",
       "      <td>518085591</td>\n",
       "      <td>3bfb58cd-7892-48cc-8020-2f17e6de6e7f</td>\n",
       "    </tr>\n",
       "    <tr>\n",
       "      <th>4</th>\n",
       "      <td>2019-11-01 00:00:01 UTC</td>\n",
       "      <td>view</td>\n",
       "      <td>1004775</td>\n",
       "      <td>2053013555631882655</td>\n",
       "      <td>electronics.smartphone</td>\n",
       "      <td>xiaomi</td>\n",
       "      <td>183.27</td>\n",
       "      <td>558856683</td>\n",
       "      <td>313628f1-68b8-460d-84f6-cec7a8796ef2</td>\n",
       "    </tr>\n",
       "  </tbody>\n",
       "</table>\n",
       "</div>"
      ],
      "text/plain": [
       "                event_time event_type  product_id          category_id  \\\n",
       "0  2019-11-01 00:00:00 UTC       view     1003461  2053013555631882655   \n",
       "1  2019-11-01 00:00:00 UTC       view     5000088  2053013566100866035   \n",
       "2  2019-11-01 00:00:01 UTC       view    17302664  2053013553853497655   \n",
       "3  2019-11-01 00:00:01 UTC       view     3601530  2053013563810775923   \n",
       "4  2019-11-01 00:00:01 UTC       view     1004775  2053013555631882655   \n",
       "\n",
       "               category_code   brand   price    user_id  \\\n",
       "0     electronics.smartphone  xiaomi  489.07  520088904   \n",
       "1  appliances.sewing_machine  janome  293.65  530496790   \n",
       "2                        NaN   creed   28.31  561587266   \n",
       "3  appliances.kitchen.washer      lg  712.87  518085591   \n",
       "4     electronics.smartphone  xiaomi  183.27  558856683   \n",
       "\n",
       "                           user_session  \n",
       "0  4d3b30da-a5e4-49df-b1a8-ba5943f1dd33  \n",
       "1  8e5f4f83-366c-4f70-860e-ca7417414283  \n",
       "2  755422e7-9040-477b-9bd2-6a6e8fd97387  \n",
       "3  3bfb58cd-7892-48cc-8020-2f17e6de6e7f  \n",
       "4  313628f1-68b8-460d-84f6-cec7a8796ef2  "
      ]
     },
     "execution_count": 3,
     "metadata": {},
     "output_type": "execute_result"
    }
   ],
   "source": [
    "big_behavior.head()"
   ]
  },
  {
   "cell_type": "code",
   "execution_count": 4,
   "id": "7f1ed677-22f5-4066-ab0b-a07bb0ce1c21",
   "metadata": {},
   "outputs": [
    {
     "name": "stdout",
     "output_type": "stream",
     "text": [
      "<class 'pandas.core.frame.DataFrame'>\n",
      "RangeIndex: 67501979 entries, 0 to 67501978\n",
      "Data columns (total 9 columns):\n",
      " #   Column         Dtype  \n",
      "---  ------         -----  \n",
      " 0   event_time     object \n",
      " 1   event_type     object \n",
      " 2   product_id     int64  \n",
      " 3   category_id    int64  \n",
      " 4   category_code  object \n",
      " 5   brand          object \n",
      " 6   price          float64\n",
      " 7   user_id        int64  \n",
      " 8   user_session   object \n",
      "dtypes: float64(1), int64(3), object(5)\n",
      "memory usage: 4.5+ GB\n"
     ]
    }
   ],
   "source": [
    "big_behavior.info()"
   ]
  },
  {
   "cell_type": "code",
   "execution_count": 5,
   "id": "3a800c1c-ae90-4da8-b300-8d211522cf69",
   "metadata": {},
   "outputs": [
    {
     "data": {
      "text/plain": [
       "event_time              0\n",
       "event_type              0\n",
       "product_id              0\n",
       "category_id             0\n",
       "category_code    21898171\n",
       "brand             9224078\n",
       "price                   0\n",
       "user_id                 0\n",
       "user_session           10\n",
       "dtype: int64"
      ]
     },
     "execution_count": 5,
     "metadata": {},
     "output_type": "execute_result"
    }
   ],
   "source": [
    "big_behavior.isna().sum()"
   ]
  },
  {
   "cell_type": "code",
   "execution_count": 6,
   "id": "4cc63116-efba-4335-acc8-537d1daf1cb5",
   "metadata": {},
   "outputs": [],
   "source": [
    "# 결측치 제거\n",
    "big_behavior.dropna(axis=0, inplace=True)"
   ]
  },
  {
   "cell_type": "code",
   "execution_count": 7,
   "id": "887931bf-aaab-4211-b00c-2666f9658ac3",
   "metadata": {},
   "outputs": [],
   "source": [
    "# datetime화 시간대 정보 제거\n",
    "big_behavior['event_time'] = pd.to_datetime(big_behavior['event_time']).dt.tz_convert(None)"
   ]
  },
  {
   "cell_type": "markdown",
   "id": "eafb4fe3-a2f1-4256-bde5-a55069918c11",
   "metadata": {},
   "source": [
    "**사이트 체류 시간 계산**"
   ]
  },
  {
   "cell_type": "code",
   "execution_count": 8,
   "id": "aaa9c1e8-80d2-4549-ba62-12f66f212232",
   "metadata": {},
   "outputs": [
    {
     "data": {
      "text/html": [
       "<div>\n",
       "<style scoped>\n",
       "    .dataframe tbody tr th:only-of-type {\n",
       "        vertical-align: middle;\n",
       "    }\n",
       "\n",
       "    .dataframe tbody tr th {\n",
       "        vertical-align: top;\n",
       "    }\n",
       "\n",
       "    .dataframe thead th {\n",
       "        text-align: right;\n",
       "    }\n",
       "</style>\n",
       "<table border=\"1\" class=\"dataframe\">\n",
       "  <thead>\n",
       "    <tr style=\"text-align: right;\">\n",
       "      <th></th>\n",
       "      <th>event_time</th>\n",
       "      <th>user_id</th>\n",
       "      <th>user_session</th>\n",
       "      <th>event_type</th>\n",
       "    </tr>\n",
       "  </thead>\n",
       "  <tbody>\n",
       "    <tr>\n",
       "      <th>0</th>\n",
       "      <td>2019-11-01 00:00:00</td>\n",
       "      <td>520088904</td>\n",
       "      <td>4d3b30da-a5e4-49df-b1a8-ba5943f1dd33</td>\n",
       "      <td>view</td>\n",
       "    </tr>\n",
       "    <tr>\n",
       "      <th>1</th>\n",
       "      <td>2019-11-01 00:00:00</td>\n",
       "      <td>530496790</td>\n",
       "      <td>8e5f4f83-366c-4f70-860e-ca7417414283</td>\n",
       "      <td>view</td>\n",
       "    </tr>\n",
       "    <tr>\n",
       "      <th>3</th>\n",
       "      <td>2019-11-01 00:00:01</td>\n",
       "      <td>518085591</td>\n",
       "      <td>3bfb58cd-7892-48cc-8020-2f17e6de6e7f</td>\n",
       "      <td>view</td>\n",
       "    </tr>\n",
       "    <tr>\n",
       "      <th>4</th>\n",
       "      <td>2019-11-01 00:00:01</td>\n",
       "      <td>558856683</td>\n",
       "      <td>313628f1-68b8-460d-84f6-cec7a8796ef2</td>\n",
       "      <td>view</td>\n",
       "    </tr>\n",
       "    <tr>\n",
       "      <th>5</th>\n",
       "      <td>2019-11-01 00:00:01</td>\n",
       "      <td>520772685</td>\n",
       "      <td>816a59f3-f5ae-4ccd-9b23-82aa8c23d33c</td>\n",
       "      <td>view</td>\n",
       "    </tr>\n",
       "  </tbody>\n",
       "</table>\n",
       "</div>"
      ],
      "text/plain": [
       "           event_time    user_id                          user_session  \\\n",
       "0 2019-11-01 00:00:00  520088904  4d3b30da-a5e4-49df-b1a8-ba5943f1dd33   \n",
       "1 2019-11-01 00:00:00  530496790  8e5f4f83-366c-4f70-860e-ca7417414283   \n",
       "3 2019-11-01 00:00:01  518085591  3bfb58cd-7892-48cc-8020-2f17e6de6e7f   \n",
       "4 2019-11-01 00:00:01  558856683  313628f1-68b8-460d-84f6-cec7a8796ef2   \n",
       "5 2019-11-01 00:00:01  520772685  816a59f3-f5ae-4ccd-9b23-82aa8c23d33c   \n",
       "\n",
       "  event_type  \n",
       "0       view  \n",
       "1       view  \n",
       "3       view  \n",
       "4       view  \n",
       "5       view  "
      ]
     },
     "execution_count": 8,
     "metadata": {},
     "output_type": "execute_result"
    }
   ],
   "source": [
    "hd_df = big_behavior[['event_time', 'user_id', 'user_session', 'event_type']]\n",
    "hd_df.head()"
   ]
  },
  {
   "cell_type": "code",
   "execution_count": 9,
   "id": "3156a1a6-e75d-46ab-9b0a-71c4141861e7",
   "metadata": {},
   "outputs": [],
   "source": [
    "# 동일한 세션에 대해 마지막, 처음 시간에 대한 df 생성\n",
    "max_group = hd_df.groupby(['user_session', 'user_id'], as_index=True)['event_time'].max()\n",
    "min_group = hd_df.groupby(['user_session', 'user_id'], as_index=True)['event_time'].min()"
   ]
  },
  {
   "cell_type": "code",
   "execution_count": 10,
   "id": "956cfd19-5c99-499a-81d0-cebc9eb0caa5",
   "metadata": {},
   "outputs": [],
   "source": [
    "# 열 이름 변경\n",
    "max_time_df = pd.DataFrame(max_group)\n",
    "max_time_df.columns = ['latest']\n",
    "\n",
    "min_time_df = pd.DataFrame(min_group)\n",
    "min_time_df.columns = ['start']"
   ]
  },
  {
   "cell_type": "code",
   "execution_count": 11,
   "id": "ef88a8e8-c55c-4f42-94b7-9b8616c3046e",
   "metadata": {},
   "outputs": [
    {
     "data": {
      "text/html": [
       "<div>\n",
       "<style scoped>\n",
       "    .dataframe tbody tr th:only-of-type {\n",
       "        vertical-align: middle;\n",
       "    }\n",
       "\n",
       "    .dataframe tbody tr th {\n",
       "        vertical-align: top;\n",
       "    }\n",
       "\n",
       "    .dataframe thead th {\n",
       "        text-align: right;\n",
       "    }\n",
       "</style>\n",
       "<table border=\"1\" class=\"dataframe\">\n",
       "  <thead>\n",
       "    <tr style=\"text-align: right;\">\n",
       "      <th></th>\n",
       "      <th></th>\n",
       "      <th>latest</th>\n",
       "    </tr>\n",
       "    <tr>\n",
       "      <th>user_session</th>\n",
       "      <th>user_id</th>\n",
       "      <th></th>\n",
       "    </tr>\n",
       "  </thead>\n",
       "  <tbody>\n",
       "    <tr>\n",
       "      <th>0000009d-1f5b-40b9-bd23-db4f3d973ae3</th>\n",
       "      <th>457789173</th>\n",
       "      <td>2019-11-13 06:02:54</td>\n",
       "    </tr>\n",
       "    <tr>\n",
       "      <th>000001d5-f8f8-4e40-b8d6-224155713521</th>\n",
       "      <th>569353390</th>\n",
       "      <td>2019-11-09 13:58:06</td>\n",
       "    </tr>\n",
       "    <tr>\n",
       "      <th>00000510-834a-498a-9bed-561a90c5125e</th>\n",
       "      <th>513196170</th>\n",
       "      <td>2019-11-02 13:29:04</td>\n",
       "    </tr>\n",
       "    <tr>\n",
       "      <th>00000616-f016-4c01-b323-438486d9d3ee</th>\n",
       "      <th>518709589</th>\n",
       "      <td>2019-11-17 05:39:59</td>\n",
       "    </tr>\n",
       "    <tr>\n",
       "      <th>000007b4-6d31-4590-b88f-0f68d1cee73c</th>\n",
       "      <th>572115980</th>\n",
       "      <td>2019-11-16 08:12:52</td>\n",
       "    </tr>\n",
       "  </tbody>\n",
       "</table>\n",
       "</div>"
      ],
      "text/plain": [
       "                                                            latest\n",
       "user_session                         user_id                      \n",
       "0000009d-1f5b-40b9-bd23-db4f3d973ae3 457789173 2019-11-13 06:02:54\n",
       "000001d5-f8f8-4e40-b8d6-224155713521 569353390 2019-11-09 13:58:06\n",
       "00000510-834a-498a-9bed-561a90c5125e 513196170 2019-11-02 13:29:04\n",
       "00000616-f016-4c01-b323-438486d9d3ee 518709589 2019-11-17 05:39:59\n",
       "000007b4-6d31-4590-b88f-0f68d1cee73c 572115980 2019-11-16 08:12:52"
      ]
     },
     "metadata": {},
     "output_type": "display_data"
    },
    {
     "data": {
      "text/html": [
       "<div>\n",
       "<style scoped>\n",
       "    .dataframe tbody tr th:only-of-type {\n",
       "        vertical-align: middle;\n",
       "    }\n",
       "\n",
       "    .dataframe tbody tr th {\n",
       "        vertical-align: top;\n",
       "    }\n",
       "\n",
       "    .dataframe thead th {\n",
       "        text-align: right;\n",
       "    }\n",
       "</style>\n",
       "<table border=\"1\" class=\"dataframe\">\n",
       "  <thead>\n",
       "    <tr style=\"text-align: right;\">\n",
       "      <th></th>\n",
       "      <th></th>\n",
       "      <th>start</th>\n",
       "    </tr>\n",
       "    <tr>\n",
       "      <th>user_session</th>\n",
       "      <th>user_id</th>\n",
       "      <th></th>\n",
       "    </tr>\n",
       "  </thead>\n",
       "  <tbody>\n",
       "    <tr>\n",
       "      <th>0000009d-1f5b-40b9-bd23-db4f3d973ae3</th>\n",
       "      <th>457789173</th>\n",
       "      <td>2019-11-13 06:02:54</td>\n",
       "    </tr>\n",
       "    <tr>\n",
       "      <th>000001d5-f8f8-4e40-b8d6-224155713521</th>\n",
       "      <th>569353390</th>\n",
       "      <td>2019-11-09 13:58:06</td>\n",
       "    </tr>\n",
       "    <tr>\n",
       "      <th>00000510-834a-498a-9bed-561a90c5125e</th>\n",
       "      <th>513196170</th>\n",
       "      <td>2019-11-02 13:29:04</td>\n",
       "    </tr>\n",
       "    <tr>\n",
       "      <th>00000616-f016-4c01-b323-438486d9d3ee</th>\n",
       "      <th>518709589</th>\n",
       "      <td>2019-11-17 05:36:28</td>\n",
       "    </tr>\n",
       "    <tr>\n",
       "      <th>000007b4-6d31-4590-b88f-0f68d1cee73c</th>\n",
       "      <th>572115980</th>\n",
       "      <td>2019-11-16 08:11:45</td>\n",
       "    </tr>\n",
       "  </tbody>\n",
       "</table>\n",
       "</div>"
      ],
      "text/plain": [
       "                                                             start\n",
       "user_session                         user_id                      \n",
       "0000009d-1f5b-40b9-bd23-db4f3d973ae3 457789173 2019-11-13 06:02:54\n",
       "000001d5-f8f8-4e40-b8d6-224155713521 569353390 2019-11-09 13:58:06\n",
       "00000510-834a-498a-9bed-561a90c5125e 513196170 2019-11-02 13:29:04\n",
       "00000616-f016-4c01-b323-438486d9d3ee 518709589 2019-11-17 05:36:28\n",
       "000007b4-6d31-4590-b88f-0f68d1cee73c 572115980 2019-11-16 08:11:45"
      ]
     },
     "metadata": {},
     "output_type": "display_data"
    }
   ],
   "source": [
    "# 가장 최근 접속 시간\n",
    "display(max_time_df.head())\n",
    "# 처음  접속 시간\n",
    "display(min_time_df.head())"
   ]
  },
  {
   "cell_type": "code",
   "execution_count": 12,
   "id": "b35bc164-771c-44f8-8aff-973ea8905ff8",
   "metadata": {},
   "outputs": [],
   "source": [
    "# 두 df 연결\n",
    "session_df = pd.concat([max_time_df, min_time_df], axis=1)\n",
    "# 세션별 사이트 체류시간 계산\n",
    "session_df['session_time'] = session_df['latest'] - session_df['start']"
   ]
  },
  {
   "cell_type": "code",
   "execution_count": 13,
   "id": "cc82a305-94c2-4154-8d89-67743a7c5dcb",
   "metadata": {},
   "outputs": [
    {
     "data": {
      "text/plain": [
       "session_time\n",
       "0 days 00:00:00    3537795\n",
       "0 days 00:00:23      27595\n",
       "0 days 00:00:26      27572\n",
       "0 days 00:00:25      27571\n",
       "0 days 00:00:21      27390\n",
       "                    ...   \n",
       "0 days 10:36:01          1\n",
       "0 days 23:00:21          1\n",
       "0 days 05:22:56          1\n",
       "0 days 06:49:13          1\n",
       "0 days 08:40:19          1\n",
       "Name: count, Length: 24206, dtype: int64"
      ]
     },
     "execution_count": 13,
     "metadata": {},
     "output_type": "execute_result"
    }
   ],
   "source": [
    "# 비정상 데이터 처리\n",
    "session_df = session_df.loc[session_df['session_time']<pd.Timedelta(days=1)]\n",
    "session_df['session_time'].value_counts()"
   ]
  },
  {
   "cell_type": "code",
   "execution_count": 14,
   "id": "fe7f1c39-a928-4e72-bbab-ef3d923209c1",
   "metadata": {},
   "outputs": [
    {
     "data": {
      "text/html": [
       "<div>\n",
       "<style scoped>\n",
       "    .dataframe tbody tr th:only-of-type {\n",
       "        vertical-align: middle;\n",
       "    }\n",
       "\n",
       "    .dataframe tbody tr th {\n",
       "        vertical-align: top;\n",
       "    }\n",
       "\n",
       "    .dataframe thead th {\n",
       "        text-align: right;\n",
       "    }\n",
       "</style>\n",
       "<table border=\"1\" class=\"dataframe\">\n",
       "  <thead>\n",
       "    <tr style=\"text-align: right;\">\n",
       "      <th></th>\n",
       "      <th></th>\n",
       "      <th>latest</th>\n",
       "      <th>start</th>\n",
       "      <th>session_time</th>\n",
       "    </tr>\n",
       "    <tr>\n",
       "      <th>user_session</th>\n",
       "      <th>user_id</th>\n",
       "      <th></th>\n",
       "      <th></th>\n",
       "      <th></th>\n",
       "    </tr>\n",
       "  </thead>\n",
       "  <tbody>\n",
       "    <tr>\n",
       "      <th>a420656b-46be-40e4-82a2-0b704fd76cd5</th>\n",
       "      <th>572811312</th>\n",
       "      <td>2019-11-26 03:07:35</td>\n",
       "      <td>2019-11-25 03:07:38</td>\n",
       "      <td>0 days 23:59:57</td>\n",
       "    </tr>\n",
       "    <tr>\n",
       "      <th>bfbcd7fd-3cf8-4fc6-8488-8a76bede48e7</th>\n",
       "      <th>576913243</th>\n",
       "      <td>2019-11-28 02:34:22</td>\n",
       "      <td>2019-11-27 02:34:25</td>\n",
       "      <td>0 days 23:59:57</td>\n",
       "    </tr>\n",
       "    <tr>\n",
       "      <th>c445cd4f-71ec-4811-aa65-f67b9205a535</th>\n",
       "      <th>516294321</th>\n",
       "      <td>2019-11-23 08:14:32</td>\n",
       "      <td>2019-11-22 08:14:35</td>\n",
       "      <td>0 days 23:59:57</td>\n",
       "    </tr>\n",
       "    <tr>\n",
       "      <th>cd0ff507-f25a-4c6e-9176-29c9e05fdb75</th>\n",
       "      <th>572811312</th>\n",
       "      <td>2019-11-26 03:07:39</td>\n",
       "      <td>2019-11-25 03:07:43</td>\n",
       "      <td>0 days 23:59:56</td>\n",
       "    </tr>\n",
       "    <tr>\n",
       "      <th>2101acb6-c605-4db6-864a-6d0afddeec3f</th>\n",
       "      <th>574276662</th>\n",
       "      <td>2019-11-22 12:33:37</td>\n",
       "      <td>2019-11-21 12:33:48</td>\n",
       "      <td>0 days 23:59:49</td>\n",
       "    </tr>\n",
       "    <tr>\n",
       "      <th>...</th>\n",
       "      <th>...</th>\n",
       "      <td>...</td>\n",
       "      <td>...</td>\n",
       "      <td>...</td>\n",
       "    </tr>\n",
       "    <tr>\n",
       "      <th>7c6b9251-bbd5-42f5-8f63-752a865d9110</th>\n",
       "      <th>566657705</th>\n",
       "      <td>2019-11-12 12:07:28</td>\n",
       "      <td>2019-11-12 12:07:28</td>\n",
       "      <td>0 days 00:00:00</td>\n",
       "    </tr>\n",
       "    <tr>\n",
       "      <th>7c6b9127-545b-4dc4-a798-7eb0fcc42a75</th>\n",
       "      <th>514856494</th>\n",
       "      <td>2019-11-27 09:35:38</td>\n",
       "      <td>2019-11-27 09:35:38</td>\n",
       "      <td>0 days 00:00:00</td>\n",
       "    </tr>\n",
       "    <tr>\n",
       "      <th>7c6b9034-c2b2-482c-bb44-6d5e68de90c2</th>\n",
       "      <th>540815058</th>\n",
       "      <td>2019-11-08 02:52:48</td>\n",
       "      <td>2019-11-08 02:52:48</td>\n",
       "      <td>0 days 00:00:00</td>\n",
       "    </tr>\n",
       "    <tr>\n",
       "      <th>7c6b8a31-3e5b-4793-a295-00757b3647c3</th>\n",
       "      <th>514149576</th>\n",
       "      <td>2019-11-25 11:12:28</td>\n",
       "      <td>2019-11-25 11:12:28</td>\n",
       "      <td>0 days 00:00:00</td>\n",
       "    </tr>\n",
       "    <tr>\n",
       "      <th>fffffde2-4522-4b44-8a32-510c55739ba1</th>\n",
       "      <th>522079814</th>\n",
       "      <td>2019-11-30 10:29:57</td>\n",
       "      <td>2019-11-30 10:29:57</td>\n",
       "      <td>0 days 00:00:00</td>\n",
       "    </tr>\n",
       "  </tbody>\n",
       "</table>\n",
       "<p>9529139 rows × 3 columns</p>\n",
       "</div>"
      ],
      "text/plain": [
       "                                                            latest  \\\n",
       "user_session                         user_id                         \n",
       "a420656b-46be-40e4-82a2-0b704fd76cd5 572811312 2019-11-26 03:07:35   \n",
       "bfbcd7fd-3cf8-4fc6-8488-8a76bede48e7 576913243 2019-11-28 02:34:22   \n",
       "c445cd4f-71ec-4811-aa65-f67b9205a535 516294321 2019-11-23 08:14:32   \n",
       "cd0ff507-f25a-4c6e-9176-29c9e05fdb75 572811312 2019-11-26 03:07:39   \n",
       "2101acb6-c605-4db6-864a-6d0afddeec3f 574276662 2019-11-22 12:33:37   \n",
       "...                                                            ...   \n",
       "7c6b9251-bbd5-42f5-8f63-752a865d9110 566657705 2019-11-12 12:07:28   \n",
       "7c6b9127-545b-4dc4-a798-7eb0fcc42a75 514856494 2019-11-27 09:35:38   \n",
       "7c6b9034-c2b2-482c-bb44-6d5e68de90c2 540815058 2019-11-08 02:52:48   \n",
       "7c6b8a31-3e5b-4793-a295-00757b3647c3 514149576 2019-11-25 11:12:28   \n",
       "fffffde2-4522-4b44-8a32-510c55739ba1 522079814 2019-11-30 10:29:57   \n",
       "\n",
       "                                                             start  \\\n",
       "user_session                         user_id                         \n",
       "a420656b-46be-40e4-82a2-0b704fd76cd5 572811312 2019-11-25 03:07:38   \n",
       "bfbcd7fd-3cf8-4fc6-8488-8a76bede48e7 576913243 2019-11-27 02:34:25   \n",
       "c445cd4f-71ec-4811-aa65-f67b9205a535 516294321 2019-11-22 08:14:35   \n",
       "cd0ff507-f25a-4c6e-9176-29c9e05fdb75 572811312 2019-11-25 03:07:43   \n",
       "2101acb6-c605-4db6-864a-6d0afddeec3f 574276662 2019-11-21 12:33:48   \n",
       "...                                                            ...   \n",
       "7c6b9251-bbd5-42f5-8f63-752a865d9110 566657705 2019-11-12 12:07:28   \n",
       "7c6b9127-545b-4dc4-a798-7eb0fcc42a75 514856494 2019-11-27 09:35:38   \n",
       "7c6b9034-c2b2-482c-bb44-6d5e68de90c2 540815058 2019-11-08 02:52:48   \n",
       "7c6b8a31-3e5b-4793-a295-00757b3647c3 514149576 2019-11-25 11:12:28   \n",
       "fffffde2-4522-4b44-8a32-510c55739ba1 522079814 2019-11-30 10:29:57   \n",
       "\n",
       "                                                  session_time  \n",
       "user_session                         user_id                    \n",
       "a420656b-46be-40e4-82a2-0b704fd76cd5 572811312 0 days 23:59:57  \n",
       "bfbcd7fd-3cf8-4fc6-8488-8a76bede48e7 576913243 0 days 23:59:57  \n",
       "c445cd4f-71ec-4811-aa65-f67b9205a535 516294321 0 days 23:59:57  \n",
       "cd0ff507-f25a-4c6e-9176-29c9e05fdb75 572811312 0 days 23:59:56  \n",
       "2101acb6-c605-4db6-864a-6d0afddeec3f 574276662 0 days 23:59:49  \n",
       "...                                                        ...  \n",
       "7c6b9251-bbd5-42f5-8f63-752a865d9110 566657705 0 days 00:00:00  \n",
       "7c6b9127-545b-4dc4-a798-7eb0fcc42a75 514856494 0 days 00:00:00  \n",
       "7c6b9034-c2b2-482c-bb44-6d5e68de90c2 540815058 0 days 00:00:00  \n",
       "7c6b8a31-3e5b-4793-a295-00757b3647c3 514149576 0 days 00:00:00  \n",
       "fffffde2-4522-4b44-8a32-510c55739ba1 522079814 0 days 00:00:00  \n",
       "\n",
       "[9529139 rows x 3 columns]"
      ]
     },
     "execution_count": 14,
     "metadata": {},
     "output_type": "execute_result"
    }
   ],
   "source": [
    "session_df.sort_values('session_time', ascending=False)"
   ]
  },
  {
   "cell_type": "code",
   "execution_count": 15,
   "id": "556761c2-eff9-4094-ac2d-21d679f1758b",
   "metadata": {},
   "outputs": [
    {
     "data": {
      "text/plain": [
       "[457789173, 569353390, 513196170, 518709589, 572115980]"
      ]
     },
     "execution_count": 15,
     "metadata": {},
     "output_type": "execute_result"
    }
   ],
   "source": [
    "# 정상 데이터 user_id\n",
    "user_id_list = list(session_df.reset_index(drop=False)['user_id'].unique())\n",
    "user_id_list[:5]"
   ]
  },
  {
   "cell_type": "markdown",
   "id": "458de718-6975-4274-9d4d-9fd8550fade2",
   "metadata": {},
   "source": [
    "**DAU 확인위한 전처리**"
   ]
  },
  {
   "cell_type": "code",
   "execution_count": 16,
   "id": "7a1c02ec-4efc-4500-a851-f730e400bb15",
   "metadata": {},
   "outputs": [
    {
     "data": {
      "text/html": [
       "<div>\n",
       "<style scoped>\n",
       "    .dataframe tbody tr th:only-of-type {\n",
       "        vertical-align: middle;\n",
       "    }\n",
       "\n",
       "    .dataframe tbody tr th {\n",
       "        vertical-align: top;\n",
       "    }\n",
       "\n",
       "    .dataframe thead th {\n",
       "        text-align: right;\n",
       "    }\n",
       "</style>\n",
       "<table border=\"1\" class=\"dataframe\">\n",
       "  <thead>\n",
       "    <tr style=\"text-align: right;\">\n",
       "      <th></th>\n",
       "      <th>event_time</th>\n",
       "      <th>event_type</th>\n",
       "      <th>product_id</th>\n",
       "      <th>category_id</th>\n",
       "      <th>category_code</th>\n",
       "      <th>brand</th>\n",
       "      <th>price</th>\n",
       "      <th>user_id</th>\n",
       "      <th>user_session</th>\n",
       "      <th>utc_day</th>\n",
       "    </tr>\n",
       "  </thead>\n",
       "  <tbody>\n",
       "    <tr>\n",
       "      <th>0</th>\n",
       "      <td>2019-11-01 00:00:00</td>\n",
       "      <td>view</td>\n",
       "      <td>1003461</td>\n",
       "      <td>2053013555631882655</td>\n",
       "      <td>electronics.smartphone</td>\n",
       "      <td>xiaomi</td>\n",
       "      <td>489.07</td>\n",
       "      <td>520088904</td>\n",
       "      <td>4d3b30da-a5e4-49df-b1a8-ba5943f1dd33</td>\n",
       "      <td>1</td>\n",
       "    </tr>\n",
       "    <tr>\n",
       "      <th>1</th>\n",
       "      <td>2019-11-01 00:00:00</td>\n",
       "      <td>view</td>\n",
       "      <td>5000088</td>\n",
       "      <td>2053013566100866035</td>\n",
       "      <td>appliances.sewing_machine</td>\n",
       "      <td>janome</td>\n",
       "      <td>293.65</td>\n",
       "      <td>530496790</td>\n",
       "      <td>8e5f4f83-366c-4f70-860e-ca7417414283</td>\n",
       "      <td>1</td>\n",
       "    </tr>\n",
       "    <tr>\n",
       "      <th>3</th>\n",
       "      <td>2019-11-01 00:00:01</td>\n",
       "      <td>view</td>\n",
       "      <td>3601530</td>\n",
       "      <td>2053013563810775923</td>\n",
       "      <td>appliances.kitchen.washer</td>\n",
       "      <td>lg</td>\n",
       "      <td>712.87</td>\n",
       "      <td>518085591</td>\n",
       "      <td>3bfb58cd-7892-48cc-8020-2f17e6de6e7f</td>\n",
       "      <td>1</td>\n",
       "    </tr>\n",
       "    <tr>\n",
       "      <th>4</th>\n",
       "      <td>2019-11-01 00:00:01</td>\n",
       "      <td>view</td>\n",
       "      <td>1004775</td>\n",
       "      <td>2053013555631882655</td>\n",
       "      <td>electronics.smartphone</td>\n",
       "      <td>xiaomi</td>\n",
       "      <td>183.27</td>\n",
       "      <td>558856683</td>\n",
       "      <td>313628f1-68b8-460d-84f6-cec7a8796ef2</td>\n",
       "      <td>1</td>\n",
       "    </tr>\n",
       "    <tr>\n",
       "      <th>5</th>\n",
       "      <td>2019-11-01 00:00:01</td>\n",
       "      <td>view</td>\n",
       "      <td>1306894</td>\n",
       "      <td>2053013558920217191</td>\n",
       "      <td>computers.notebook</td>\n",
       "      <td>hp</td>\n",
       "      <td>360.09</td>\n",
       "      <td>520772685</td>\n",
       "      <td>816a59f3-f5ae-4ccd-9b23-82aa8c23d33c</td>\n",
       "      <td>1</td>\n",
       "    </tr>\n",
       "  </tbody>\n",
       "</table>\n",
       "</div>"
      ],
      "text/plain": [
       "           event_time event_type  product_id          category_id  \\\n",
       "0 2019-11-01 00:00:00       view     1003461  2053013555631882655   \n",
       "1 2019-11-01 00:00:00       view     5000088  2053013566100866035   \n",
       "3 2019-11-01 00:00:01       view     3601530  2053013563810775923   \n",
       "4 2019-11-01 00:00:01       view     1004775  2053013555631882655   \n",
       "5 2019-11-01 00:00:01       view     1306894  2053013558920217191   \n",
       "\n",
       "               category_code   brand   price    user_id  \\\n",
       "0     electronics.smartphone  xiaomi  489.07  520088904   \n",
       "1  appliances.sewing_machine  janome  293.65  530496790   \n",
       "3  appliances.kitchen.washer      lg  712.87  518085591   \n",
       "4     electronics.smartphone  xiaomi  183.27  558856683   \n",
       "5         computers.notebook      hp  360.09  520772685   \n",
       "\n",
       "                           user_session  utc_day  \n",
       "0  4d3b30da-a5e4-49df-b1a8-ba5943f1dd33        1  \n",
       "1  8e5f4f83-366c-4f70-860e-ca7417414283        1  \n",
       "3  3bfb58cd-7892-48cc-8020-2f17e6de6e7f        1  \n",
       "4  313628f1-68b8-460d-84f6-cec7a8796ef2        1  \n",
       "5  816a59f3-f5ae-4ccd-9b23-82aa8c23d33c        1  "
      ]
     },
     "execution_count": 16,
     "metadata": {},
     "output_type": "execute_result"
    }
   ],
   "source": [
    "# 일별 활성 사용자 수 위한 utc_day 열 생성\n",
    "behavior_df = big_behavior.loc[big_behavior['user_id'].isin(user_id_list)]\n",
    "utc_day = []\n",
    "for time in behavior_df['event_time']:\n",
    "    utc_day.append(time.day)\n",
    "# utc_day 열 추가\n",
    "behavior_df['utc_day'] = utc_day\n",
    "behavior_df.head()"
   ]
  },
  {
   "cell_type": "code",
   "execution_count": 17,
   "id": "fe8e1104-5fbf-47d6-9806-0b1bd6c91e2b",
   "metadata": {},
   "outputs": [
    {
     "data": {
      "text/html": [
       "<div>\n",
       "<style scoped>\n",
       "    .dataframe tbody tr th:only-of-type {\n",
       "        vertical-align: middle;\n",
       "    }\n",
       "\n",
       "    .dataframe tbody tr th {\n",
       "        vertical-align: top;\n",
       "    }\n",
       "\n",
       "    .dataframe thead th {\n",
       "        text-align: right;\n",
       "    }\n",
       "</style>\n",
       "<table border=\"1\" class=\"dataframe\">\n",
       "  <thead>\n",
       "    <tr style=\"text-align: right;\">\n",
       "      <th></th>\n",
       "      <th>user_id</th>\n",
       "      <th>utc_day</th>\n",
       "    </tr>\n",
       "  </thead>\n",
       "  <tbody>\n",
       "    <tr>\n",
       "      <th>0</th>\n",
       "      <td>520088904</td>\n",
       "      <td>1</td>\n",
       "    </tr>\n",
       "    <tr>\n",
       "      <th>1</th>\n",
       "      <td>530496790</td>\n",
       "      <td>1</td>\n",
       "    </tr>\n",
       "    <tr>\n",
       "      <th>3</th>\n",
       "      <td>518085591</td>\n",
       "      <td>1</td>\n",
       "    </tr>\n",
       "    <tr>\n",
       "      <th>4</th>\n",
       "      <td>558856683</td>\n",
       "      <td>1</td>\n",
       "    </tr>\n",
       "    <tr>\n",
       "      <th>5</th>\n",
       "      <td>520772685</td>\n",
       "      <td>1</td>\n",
       "    </tr>\n",
       "  </tbody>\n",
       "</table>\n",
       "</div>"
      ],
      "text/plain": [
       "     user_id  utc_day\n",
       "0  520088904        1\n",
       "1  530496790        1\n",
       "3  518085591        1\n",
       "4  558856683        1\n",
       "5  520772685        1"
      ]
     },
     "execution_count": 17,
     "metadata": {},
     "output_type": "execute_result"
    }
   ],
   "source": [
    "# uct_day 컬럼 생성 및 분리\n",
    "day_df = behavior_df[['user_id', 'utc_day']]\n",
    "day_df.head()"
   ]
  },
  {
   "cell_type": "markdown",
   "id": "56a0fe26-9416-4e61-91c5-ce5965658dcc",
   "metadata": {},
   "source": [
    "**DAU 확인**"
   ]
  },
  {
   "cell_type": "code",
   "execution_count": 18,
   "id": "d790c9ec-4079-4770-943f-2b4b2f47fba7",
   "metadata": {},
   "outputs": [
    {
     "data": {
      "text/html": [
       "<div>\n",
       "<style scoped>\n",
       "    .dataframe tbody tr th:only-of-type {\n",
       "        vertical-align: middle;\n",
       "    }\n",
       "\n",
       "    .dataframe tbody tr th {\n",
       "        vertical-align: top;\n",
       "    }\n",
       "\n",
       "    .dataframe thead th {\n",
       "        text-align: right;\n",
       "    }\n",
       "</style>\n",
       "<table border=\"1\" class=\"dataframe\">\n",
       "  <thead>\n",
       "    <tr style=\"text-align: right;\">\n",
       "      <th></th>\n",
       "      <th>utc_day</th>\n",
       "      <th>size</th>\n",
       "    </tr>\n",
       "  </thead>\n",
       "  <tbody>\n",
       "    <tr>\n",
       "      <th>0</th>\n",
       "      <td>1</td>\n",
       "      <td>160584</td>\n",
       "    </tr>\n",
       "    <tr>\n",
       "      <th>1</th>\n",
       "      <td>2</td>\n",
       "      <td>167619</td>\n",
       "    </tr>\n",
       "    <tr>\n",
       "      <th>2</th>\n",
       "      <td>3</td>\n",
       "      <td>174291</td>\n",
       "    </tr>\n",
       "    <tr>\n",
       "      <th>3</th>\n",
       "      <td>4</td>\n",
       "      <td>197636</td>\n",
       "    </tr>\n",
       "    <tr>\n",
       "      <th>4</th>\n",
       "      <td>5</td>\n",
       "      <td>182881</td>\n",
       "    </tr>\n",
       "    <tr>\n",
       "      <th>5</th>\n",
       "      <td>6</td>\n",
       "      <td>178957</td>\n",
       "    </tr>\n",
       "    <tr>\n",
       "      <th>6</th>\n",
       "      <td>7</td>\n",
       "      <td>194431</td>\n",
       "    </tr>\n",
       "    <tr>\n",
       "      <th>7</th>\n",
       "      <td>8</td>\n",
       "      <td>205722</td>\n",
       "    </tr>\n",
       "    <tr>\n",
       "      <th>8</th>\n",
       "      <td>9</td>\n",
       "      <td>193287</td>\n",
       "    </tr>\n",
       "    <tr>\n",
       "      <th>9</th>\n",
       "      <td>10</td>\n",
       "      <td>199936</td>\n",
       "    </tr>\n",
       "    <tr>\n",
       "      <th>10</th>\n",
       "      <td>11</td>\n",
       "      <td>209882</td>\n",
       "    </tr>\n",
       "    <tr>\n",
       "      <th>11</th>\n",
       "      <td>12</td>\n",
       "      <td>205652</td>\n",
       "    </tr>\n",
       "    <tr>\n",
       "      <th>12</th>\n",
       "      <td>13</td>\n",
       "      <td>207618</td>\n",
       "    </tr>\n",
       "    <tr>\n",
       "      <th>13</th>\n",
       "      <td>14</td>\n",
       "      <td>236050</td>\n",
       "    </tr>\n",
       "    <tr>\n",
       "      <th>14</th>\n",
       "      <td>15</td>\n",
       "      <td>314935</td>\n",
       "    </tr>\n",
       "    <tr>\n",
       "      <th>15</th>\n",
       "      <td>16</td>\n",
       "      <td>393697</td>\n",
       "    </tr>\n",
       "    <tr>\n",
       "      <th>16</th>\n",
       "      <td>17</td>\n",
       "      <td>387988</td>\n",
       "    </tr>\n",
       "    <tr>\n",
       "      <th>17</th>\n",
       "      <td>18</td>\n",
       "      <td>226562</td>\n",
       "    </tr>\n",
       "    <tr>\n",
       "      <th>18</th>\n",
       "      <td>19</td>\n",
       "      <td>196617</td>\n",
       "    </tr>\n",
       "    <tr>\n",
       "      <th>19</th>\n",
       "      <td>20</td>\n",
       "      <td>194418</td>\n",
       "    </tr>\n",
       "    <tr>\n",
       "      <th>20</th>\n",
       "      <td>21</td>\n",
       "      <td>186742</td>\n",
       "    </tr>\n",
       "    <tr>\n",
       "      <th>21</th>\n",
       "      <td>22</td>\n",
       "      <td>170921</td>\n",
       "    </tr>\n",
       "    <tr>\n",
       "      <th>22</th>\n",
       "      <td>23</td>\n",
       "      <td>171217</td>\n",
       "    </tr>\n",
       "    <tr>\n",
       "      <th>23</th>\n",
       "      <td>24</td>\n",
       "      <td>166524</td>\n",
       "    </tr>\n",
       "    <tr>\n",
       "      <th>24</th>\n",
       "      <td>25</td>\n",
       "      <td>173188</td>\n",
       "    </tr>\n",
       "    <tr>\n",
       "      <th>25</th>\n",
       "      <td>26</td>\n",
       "      <td>177884</td>\n",
       "    </tr>\n",
       "    <tr>\n",
       "      <th>26</th>\n",
       "      <td>27</td>\n",
       "      <td>181635</td>\n",
       "    </tr>\n",
       "    <tr>\n",
       "      <th>27</th>\n",
       "      <td>28</td>\n",
       "      <td>182049</td>\n",
       "    </tr>\n",
       "    <tr>\n",
       "      <th>28</th>\n",
       "      <td>29</td>\n",
       "      <td>214046</td>\n",
       "    </tr>\n",
       "    <tr>\n",
       "      <th>29</th>\n",
       "      <td>30</td>\n",
       "      <td>187262</td>\n",
       "    </tr>\n",
       "  </tbody>\n",
       "</table>\n",
       "</div>"
      ],
      "text/plain": [
       "    utc_day    size\n",
       "0         1  160584\n",
       "1         2  167619\n",
       "2         3  174291\n",
       "3         4  197636\n",
       "4         5  182881\n",
       "5         6  178957\n",
       "6         7  194431\n",
       "7         8  205722\n",
       "8         9  193287\n",
       "9        10  199936\n",
       "10       11  209882\n",
       "11       12  205652\n",
       "12       13  207618\n",
       "13       14  236050\n",
       "14       15  314935\n",
       "15       16  393697\n",
       "16       17  387988\n",
       "17       18  226562\n",
       "18       19  196617\n",
       "19       20  194418\n",
       "20       21  186742\n",
       "21       22  170921\n",
       "22       23  171217\n",
       "23       24  166524\n",
       "24       25  173188\n",
       "25       26  177884\n",
       "26       27  181635\n",
       "27       28  182049\n",
       "28       29  214046\n",
       "29       30  187262"
      ]
     },
     "execution_count": 18,
     "metadata": {},
     "output_type": "execute_result"
    }
   ],
   "source": [
    "# 일자별 user_id 그룹화를 통한 일별 활성 사용자 수(DAU) 확인\n",
    "day_df.drop_duplicates(inplace=True)\n",
    "grouped = day_df.groupby('utc_day', as_index=False).size()\n",
    "grouped"
   ]
  },
  {
   "cell_type": "code",
   "execution_count": 19,
   "id": "9519ce00-ac1d-4dd8-b257-50d5dadb2888",
   "metadata": {},
   "outputs": [
    {
     "data": {
      "image/png": "[encoded data removed]",
      "text/plain": [
       "<Figure size 800x400 with 1 Axes>"
      ]
     },
     "metadata": {},
     "output_type": "display_data"
    }
   ],
   "source": [
    "plt.figure(figsize=(8,4))\n",
    "sns.lineplot(x='utc_day', y='size', data=grouped)\n",
    "plt.xlabel('한달 일자')\n",
    "plt.ylabel('플랫폼 사용자수')\n",
    "plt.show()"
   ]
  },
  {
   "cell_type": "markdown",
   "id": "ec379d44-ee40-4e67-a498-a7bf44204710",
   "metadata": {},
   "source": [
    "**16일이 DAU가 가장 많음**"
   ]
  },
  {
   "cell_type": "markdown",
   "id": "5e52fd2c-0265-4d6b-8793-24390a50910e",
   "metadata": {},
   "source": [
    "**Funnel 분석**"
   ]
  },
  {
   "cell_type": "code",
   "execution_count": 20,
   "id": "bbbfba08-2f8f-49bb-ba05-6b37da3aa789",
   "metadata": {},
   "outputs": [
    {
     "data": {
      "text/html": [
       "<div>\n",
       "<style scoped>\n",
       "    .dataframe tbody tr th:only-of-type {\n",
       "        vertical-align: middle;\n",
       "    }\n",
       "\n",
       "    .dataframe tbody tr th {\n",
       "        vertical-align: top;\n",
       "    }\n",
       "\n",
       "    .dataframe thead th {\n",
       "        text-align: right;\n",
       "    }\n",
       "</style>\n",
       "<table border=\"1\" class=\"dataframe\">\n",
       "  <thead>\n",
       "    <tr style=\"text-align: right;\">\n",
       "      <th></th>\n",
       "      <th>event_time</th>\n",
       "      <th>event_type</th>\n",
       "      <th>user_session</th>\n",
       "      <th>price</th>\n",
       "    </tr>\n",
       "  </thead>\n",
       "  <tbody>\n",
       "    <tr>\n",
       "      <th>0</th>\n",
       "      <td>2019-11-01 00:00:00</td>\n",
       "      <td>view</td>\n",
       "      <td>4d3b30da-a5e4-49df-b1a8-ba5943f1dd33</td>\n",
       "      <td>489.07</td>\n",
       "    </tr>\n",
       "    <tr>\n",
       "      <th>1</th>\n",
       "      <td>2019-11-01 00:00:00</td>\n",
       "      <td>view</td>\n",
       "      <td>8e5f4f83-366c-4f70-860e-ca7417414283</td>\n",
       "      <td>293.65</td>\n",
       "    </tr>\n",
       "    <tr>\n",
       "      <th>3</th>\n",
       "      <td>2019-11-01 00:00:01</td>\n",
       "      <td>view</td>\n",
       "      <td>3bfb58cd-7892-48cc-8020-2f17e6de6e7f</td>\n",
       "      <td>712.87</td>\n",
       "    </tr>\n",
       "    <tr>\n",
       "      <th>4</th>\n",
       "      <td>2019-11-01 00:00:01</td>\n",
       "      <td>view</td>\n",
       "      <td>313628f1-68b8-460d-84f6-cec7a8796ef2</td>\n",
       "      <td>183.27</td>\n",
       "    </tr>\n",
       "    <tr>\n",
       "      <th>5</th>\n",
       "      <td>2019-11-01 00:00:01</td>\n",
       "      <td>view</td>\n",
       "      <td>816a59f3-f5ae-4ccd-9b23-82aa8c23d33c</td>\n",
       "      <td>360.09</td>\n",
       "    </tr>\n",
       "  </tbody>\n",
       "</table>\n",
       "</div>"
      ],
      "text/plain": [
       "           event_time event_type                          user_session   price\n",
       "0 2019-11-01 00:00:00       view  4d3b30da-a5e4-49df-b1a8-ba5943f1dd33  489.07\n",
       "1 2019-11-01 00:00:00       view  8e5f4f83-366c-4f70-860e-ca7417414283  293.65\n",
       "3 2019-11-01 00:00:01       view  3bfb58cd-7892-48cc-8020-2f17e6de6e7f  712.87\n",
       "4 2019-11-01 00:00:01       view  313628f1-68b8-460d-84f6-cec7a8796ef2  183.27\n",
       "5 2019-11-01 00:00:01       view  816a59f3-f5ae-4ccd-9b23-82aa8c23d33c  360.09"
      ]
     },
     "execution_count": 20,
     "metadata": {},
     "output_type": "execute_result"
    }
   ],
   "source": [
    "sep_hd_df = big_behavior.loc[big_behavior['user_id'].isin(user_id_list)][['event_time', 'event_type', 'user_session', 'price']]\n",
    "sep_hd_df.head()"
   ]
  },
  {
   "cell_type": "code",
   "execution_count": 21,
   "id": "d5185aa3-05c9-4c30-bf9e-c0d7c52885f2",
   "metadata": {},
   "outputs": [],
   "source": [
    "# 세션 id와 이벤트 타임을 기준으로 groupby해 최초 접속 \n",
    "group = sep_hd_df.groupby(['user_session', 'event_type'], as_index=True)['event_time'].min()\n",
    "# 세션 id와 이벤트 타임을 기준으로 groupby해 평균 가격대 계산\n",
    "group_price = sep_hd_df.groupby(['user_session', 'event_type'], as_index=True)['price'].mean()\n",
    "# funnel 스탭을 위한 별도의 df 생성\n",
    "funnel_steps = pd.DataFrame({'steps':[1,2,3]}, index=['view', 'cart', 'purchase'])\n",
    "\n",
    "# group df와 funnel 스탭 df, group_price df 결합\n",
    "group = pd.DataFrame(group).merge(funnel_steps, left_on='event_type', right_index=True)\n",
    "group_df = pd.DataFrame(group_price).merge(group, on=['user_session', 'event_type'], how='inner')"
   ]
  },
  {
   "cell_type": "code",
   "execution_count": 22,
   "id": "ab052daa-ce93-438f-8213-c4e77fce7a45",
   "metadata": {},
   "outputs": [
    {
     "data": {
      "text/html": [
       "<div>\n",
       "<style scoped>\n",
       "    .dataframe tbody tr th:only-of-type {\n",
       "        vertical-align: middle;\n",
       "    }\n",
       "\n",
       "    .dataframe tbody tr th {\n",
       "        vertical-align: top;\n",
       "    }\n",
       "\n",
       "    .dataframe thead th {\n",
       "        text-align: right;\n",
       "    }\n",
       "</style>\n",
       "<table border=\"1\" class=\"dataframe\">\n",
       "  <thead>\n",
       "    <tr style=\"text-align: right;\">\n",
       "      <th></th>\n",
       "      <th>view</th>\n",
       "      <th>cart</th>\n",
       "      <th>purchase</th>\n",
       "    </tr>\n",
       "    <tr>\n",
       "      <th>user_session</th>\n",
       "      <th></th>\n",
       "      <th></th>\n",
       "      <th></th>\n",
       "    </tr>\n",
       "  </thead>\n",
       "  <tbody>\n",
       "    <tr>\n",
       "      <th>0000009d-1f5b-40b9-bd23-db4f3d973ae3</th>\n",
       "      <td>2019-11-13 06:02:54</td>\n",
       "      <td>NaT</td>\n",
       "      <td>NaT</td>\n",
       "    </tr>\n",
       "    <tr>\n",
       "      <th>000001d5-f8f8-4e40-b8d6-224155713521</th>\n",
       "      <td>2019-11-09 13:58:06</td>\n",
       "      <td>NaT</td>\n",
       "      <td>NaT</td>\n",
       "    </tr>\n",
       "    <tr>\n",
       "      <th>00000510-834a-498a-9bed-561a90c5125e</th>\n",
       "      <td>2019-11-02 13:29:04</td>\n",
       "      <td>NaT</td>\n",
       "      <td>NaT</td>\n",
       "    </tr>\n",
       "    <tr>\n",
       "      <th>00000616-f016-4c01-b323-438486d9d3ee</th>\n",
       "      <td>2019-11-17 05:36:28</td>\n",
       "      <td>NaT</td>\n",
       "      <td>NaT</td>\n",
       "    </tr>\n",
       "    <tr>\n",
       "      <th>000007b4-6d31-4590-b88f-0f68d1cee73c</th>\n",
       "      <td>2019-11-16 08:11:45</td>\n",
       "      <td>NaT</td>\n",
       "      <td>NaT</td>\n",
       "    </tr>\n",
       "    <tr>\n",
       "      <th>...</th>\n",
       "      <td>...</td>\n",
       "      <td>...</td>\n",
       "      <td>...</td>\n",
       "    </tr>\n",
       "    <tr>\n",
       "      <th>fffff826-edc8-4d19-9dd7-936ef133bc89</th>\n",
       "      <td>2019-11-22 02:21:34</td>\n",
       "      <td>NaT</td>\n",
       "      <td>NaT</td>\n",
       "    </tr>\n",
       "    <tr>\n",
       "      <th>fffff956-3426-4d37-9de9-4c00ec4ddeac</th>\n",
       "      <td>2019-11-13 03:09:08</td>\n",
       "      <td>NaT</td>\n",
       "      <td>NaT</td>\n",
       "    </tr>\n",
       "    <tr>\n",
       "      <th>fffffbbe-9f76-403b-b17c-e7c68c48ea1c</th>\n",
       "      <td>2019-11-17 09:43:04</td>\n",
       "      <td>NaT</td>\n",
       "      <td>NaT</td>\n",
       "    </tr>\n",
       "    <tr>\n",
       "      <th>fffffd01-5f95-4916-b2dd-491c603d6c9c</th>\n",
       "      <td>2019-11-17 14:07:11</td>\n",
       "      <td>2019-11-17 14:07:42</td>\n",
       "      <td>2019-11-17 14:12:02</td>\n",
       "    </tr>\n",
       "    <tr>\n",
       "      <th>fffffde2-4522-4b44-8a32-510c55739ba1</th>\n",
       "      <td>2019-11-30 10:29:57</td>\n",
       "      <td>NaT</td>\n",
       "      <td>NaT</td>\n",
       "    </tr>\n",
       "  </tbody>\n",
       "</table>\n",
       "<p>9537695 rows × 3 columns</p>\n",
       "</div>"
      ],
      "text/plain": [
       "                                                    view                cart  \\\n",
       "user_session                                                                   \n",
       "0000009d-1f5b-40b9-bd23-db4f3d973ae3 2019-11-13 06:02:54                 NaT   \n",
       "000001d5-f8f8-4e40-b8d6-224155713521 2019-11-09 13:58:06                 NaT   \n",
       "00000510-834a-498a-9bed-561a90c5125e 2019-11-02 13:29:04                 NaT   \n",
       "00000616-f016-4c01-b323-438486d9d3ee 2019-11-17 05:36:28                 NaT   \n",
       "000007b4-6d31-4590-b88f-0f68d1cee73c 2019-11-16 08:11:45                 NaT   \n",
       "...                                                  ...                 ...   \n",
       "fffff826-edc8-4d19-9dd7-936ef133bc89 2019-11-22 02:21:34                 NaT   \n",
       "fffff956-3426-4d37-9de9-4c00ec4ddeac 2019-11-13 03:09:08                 NaT   \n",
       "fffffbbe-9f76-403b-b17c-e7c68c48ea1c 2019-11-17 09:43:04                 NaT   \n",
       "fffffd01-5f95-4916-b2dd-491c603d6c9c 2019-11-17 14:07:11 2019-11-17 14:07:42   \n",
       "fffffde2-4522-4b44-8a32-510c55739ba1 2019-11-30 10:29:57                 NaT   \n",
       "\n",
       "                                                purchase  \n",
       "user_session                                              \n",
       "0000009d-1f5b-40b9-bd23-db4f3d973ae3                 NaT  \n",
       "000001d5-f8f8-4e40-b8d6-224155713521                 NaT  \n",
       "00000510-834a-498a-9bed-561a90c5125e                 NaT  \n",
       "00000616-f016-4c01-b323-438486d9d3ee                 NaT  \n",
       "000007b4-6d31-4590-b88f-0f68d1cee73c                 NaT  \n",
       "...                                                  ...  \n",
       "fffff826-edc8-4d19-9dd7-936ef133bc89                 NaT  \n",
       "fffff956-3426-4d37-9de9-4c00ec4ddeac                 NaT  \n",
       "fffffbbe-9f76-403b-b17c-e7c68c48ea1c                 NaT  \n",
       "fffffd01-5f95-4916-b2dd-491c603d6c9c 2019-11-17 14:12:02  \n",
       "fffffde2-4522-4b44-8a32-510c55739ba1                 NaT  \n",
       "\n",
       "[9537695 rows x 3 columns]"
      ]
     },
     "execution_count": 22,
     "metadata": {},
     "output_type": "execute_result"
    }
   ],
   "source": [
    "# 세션 id별로 다음 단계로의 진행 여부 확인\n",
    "funnel_event_time = group.reset_index().pivot(index='user_session', columns='steps', values='event_time')\n",
    "funnel_event_time.columns = funnel_steps.index\n",
    "funnel_event_time"
   ]
  },
  {
   "cell_type": "markdown",
   "id": "952e146a-cc27-4cb6-ab58-f0042594933c",
   "metadata": {},
   "source": [
    "- funnel 수치 계산 / 시각화"
   ]
  },
  {
   "cell_type": "code",
   "execution_count": 33,
   "id": "bd47f3a1-b4f2-4660-ba68-796ed40f7787",
   "metadata": {},
   "outputs": [
    {
     "data": {
      "application/vnd.plotly.v1+json": {
       "config": {
        "plotlyServerURL": "https://plot.ly"
       },
       "data": [
        {
         "hovertemplate": "number=%{x}<br>stage=%{y}<extra></extra>",
         "legendgroup": "",
         "marker": {
          "color": "#636efa"
         },
         "name": "",
         "orientation": "h",
         "showlegend": false,
         "type": "funnel",
         "x": [
          9529804,
          1227539,
          558490
         ],
         "xaxis": "x",
         "y": [
          "view",
          "cart",
          "purchase"
         ],
         "yaxis": "y"
        }
       ],
       "layout": {
        "autosize": true,
        "legend": {
         "tracegroupgap": 0
        },
        "margin": {
         "t": 60
        },
        "template": {
         "data": {
          "bar": [
           {
            "error_x": {
             "color": "#2a3f5f"
            },
            "error_y": {
             "color": "#2a3f5f"
            },
            "marker": {
             "line": {
              "color": "#E5ECF6",
              "width": 0.5
             },
             "pattern": {
              "fillmode": "overlay",
              "size": 10,
              "solidity": 0.2
             }
            },
            "type": "bar"
           }
          ],
          "barpolar": [
           {
            "marker": {
             "line": {
              "color": "#E5ECF6",
              "width": 0.5
             },
             "pattern": {
              "fillmode": "overlay",
              "size": 10,
              "solidity": 0.2
             }
            },
            "type": "barpolar"
           }
          ],
          "carpet": [
           {
            "aaxis": {
             "endlinecolor": "#2a3f5f",
             "gridcolor": "white",
             "linecolor": "white",
             "minorgridcolor": "white",
             "startlinecolor": "#2a3f5f"
            },
            "baxis": {
             "endlinecolor": "#2a3f5f",
             "gridcolor": "white",
             "linecolor": "white",
             "minorgridcolor": "white",
             "startlinecolor": "#2a3f5f"
            },
            "type": "carpet"
           }
          ],
          "choropleth": [
           {
            "colorbar": {
             "outlinewidth": 0,
             "ticks": ""
            },
            "type": "choropleth"
           }
          ],
          "contour": [
           {
            "colorbar": {
             "outlinewidth": 0,
             "ticks": ""
            },
            "colorscale": [
             [
              0,
              "#0d0887"
             ],
             [
              0.1111111111111111,
              "#46039f"
             ],
             [
              0.2222222222222222,
              "#7201a8"
             ],
             [
              0.3333333333333333,
              "#9c179e"
             ],
             [
              0.4444444444444444,
              "#bd3786"
             ],
             [
              0.5555555555555556,
              "#d8576b"
             ],
             [
              0.6666666666666666,
              "#ed7953"
             ],
             [
              0.7777777777777778,
              "#fb9f3a"
             ],
             [
              0.8888888888888888,
              "#fdca26"
             ],
             [
              1,
              "#f0f921"
             ]
            ],
            "type": "contour"
           }
          ],
          "contourcarpet": [
           {
            "colorbar": {
             "outlinewidth": 0,
             "ticks": ""
            },
            "type": "contourcarpet"
           }
          ],
          "heatmap": [
           {
            "colorbar": {
             "outlinewidth": 0,
             "ticks": ""
            },
            "colorscale": [
             [
              0,
              "#0d0887"
             ],
             [
              0.1111111111111111,
              "#46039f"
             ],
             [
              0.2222222222222222,
              "#7201a8"
             ],
             [
              0.3333333333333333,
              "#9c179e"
             ],
             [
              0.4444444444444444,
              "#bd3786"
             ],
             [
              0.5555555555555556,
              "#d8576b"
             ],
             [
              0.6666666666666666,
              "#ed7953"
             ],
             [
              0.7777777777777778,
              "#fb9f3a"
             ],
             [
              0.8888888888888888,
              "#fdca26"
             ],
             [
              1,
              "#f0f921"
             ]
            ],
            "type": "heatmap"
           }
          ],
          "heatmapgl": [
           {
            "colorbar": {
             "outlinewidth": 0,
             "ticks": ""
            },
            "colorscale": [
             [
              0,
              "#0d0887"
             ],
             [
              0.1111111111111111,
              "#46039f"
             ],
             [
              0.2222222222222222,
              "#7201a8"
             ],
             [
              0.3333333333333333,
              "#9c179e"
             ],
             [
              0.4444444444444444,
              "#bd3786"
             ],
             [
              0.5555555555555556,
              "#d8576b"
             ],
             [
              0.6666666666666666,
              "#ed7953"
             ],
             [
              0.7777777777777778,
              "#fb9f3a"
             ],
             [
              0.8888888888888888,
              "#fdca26"
             ],
             [
              1,
              "#f0f921"
             ]
            ],
            "type": "heatmapgl"
           }
          ],
          "histogram": [
           {
            "marker": {
             "pattern": {
              "fillmode": "overlay",
              "size": 10,
              "solidity": 0.2
             }
            },
            "type": "histogram"
           }
          ],
          "histogram2d": [
           {
            "colorbar": {
             "outlinewidth": 0,
             "ticks": ""
            },
            "colorscale": [
             [
              0,
              "#0d0887"
             ],
             [
              0.1111111111111111,
              "#46039f"
             ],
             [
              0.2222222222222222,
              "#7201a8"
             ],
             [
              0.3333333333333333,
              "#9c179e"
             ],
             [
              0.4444444444444444,
              "#bd3786"
             ],
             [
              0.5555555555555556,
              "#d8576b"
             ],
             [
              0.6666666666666666,
              "#ed7953"
             ],
             [
              0.7777777777777778,
              "#fb9f3a"
             ],
             [
              0.8888888888888888,
              "#fdca26"
             ],
             [
              1,
              "#f0f921"
             ]
            ],
            "type": "histogram2d"
           }
          ],
          "histogram2dcontour": [
           {
            "colorbar": {
             "outlinewidth": 0,
             "ticks": ""
            },
            "colorscale": [
             [
              0,
              "#0d0887"
             ],
             [
              0.1111111111111111,
              "#46039f"
             ],
             [
              0.2222222222222222,
              "#7201a8"
             ],
             [
              0.3333333333333333,
              "#9c179e"
             ],
             [
              0.4444444444444444,
              "#bd3786"
             ],
             [
              0.5555555555555556,
              "#d8576b"
             ],
             [
              0.6666666666666666,
              "#ed7953"
             ],
             [
              0.7777777777777778,
              "#fb9f3a"
             ],
             [
              0.8888888888888888,
              "#fdca26"
             ],
             [
              1,
              "#f0f921"
             ]
            ],
            "type": "histogram2dcontour"
           }
          ],
          "mesh3d": [
           {
            "colorbar": {
             "outlinewidth": 0,
             "ticks": ""
            },
            "type": "mesh3d"
           }
          ],
          "parcoords": [
           {
            "line": {
             "colorbar": {
              "outlinewidth": 0,
              "ticks": ""
             }
            },
            "type": "parcoords"
           }
          ],
          "pie": [
           {
            "automargin": true,
            "type": "pie"
           }
          ],
          "scatter": [
           {
            "fillpattern": {
             "fillmode": "overlay",
             "size": 10,
             "solidity": 0.2
            },
            "type": "scatter"
           }
          ],
          "scatter3d": [
           {
            "line": {
             "colorbar": {
              "outlinewidth": 0,
              "ticks": ""
             }
            },
            "marker": {
             "colorbar": {
              "outlinewidth": 0,
              "ticks": ""
             }
            },
            "type": "scatter3d"
           }
          ],
          "scattercarpet": [
           {
            "marker": {
             "colorbar": {
              "outlinewidth": 0,
              "ticks": ""
             }
            },
            "type": "scattercarpet"
           }
          ],
          "scattergeo": [
           {
            "marker": {
             "colorbar": {
              "outlinewidth": 0,
              "ticks": ""
             }
            },
            "type": "scattergeo"
           }
          ],
          "scattergl": [
           {
            "marker": {
             "colorbar": {
              "outlinewidth": 0,
              "ticks": ""
             }
            },
            "type": "scattergl"
           }
          ],
          "scattermapbox": [
           {
            "marker": {
             "colorbar": {
              "outlinewidth": 0,
              "ticks": ""
             }
            },
            "type": "scattermapbox"
           }
          ],
          "scatterpolar": [
           {
            "marker": {
             "colorbar": {
              "outlinewidth": 0,
              "ticks": ""
             }
            },
            "type": "scatterpolar"
           }
          ],
          "scatterpolargl": [
           {
            "marker": {
             "colorbar": {
              "outlinewidth": 0,
              "ticks": ""
             }
            },
            "type": "scatterpolargl"
           }
          ],
          "scatterternary": [
           {
            "marker": {
             "colorbar": {
              "outlinewidth": 0,
              "ticks": ""
             }
            },
            "type": "scatterternary"
           }
          ],
          "surface": [
           {
            "colorbar": {
             "outlinewidth": 0,
             "ticks": ""
            },
            "colorscale": [
             [
              0,
              "#0d0887"
             ],
             [
              0.1111111111111111,
              "#46039f"
             ],
             [
              0.2222222222222222,
              "#7201a8"
             ],
             [
              0.3333333333333333,
              "#9c179e"
             ],
             [
              0.4444444444444444,
              "#bd3786"
             ],
             [
              0.5555555555555556,
              "#d8576b"
             ],
             [
              0.6666666666666666,
              "#ed7953"
             ],
             [
              0.7777777777777778,
              "#fb9f3a"
             ],
             [
              0.8888888888888888,
              "#fdca26"
             ],
             [
              1,
              "#f0f921"
             ]
            ],
            "type": "surface"
           }
          ],
          "table": [
           {
            "cells": {
             "fill": {
              "color": "#EBF0F8"
             },
             "line": {
              "color": "white"
             }
            },
            "header": {
             "fill": {
              "color": "#C8D4E3"
             },
             "line": {
              "color": "white"
             }
            },
            "type": "table"
           }
          ]
         },
         "layout": {
          "annotationdefaults": {
           "arrowcolor": "#2a3f5f",
           "arrowhead": 0,
           "arrowwidth": 1
          },
          "autotypenumbers": "strict",
          "coloraxis": {
           "colorbar": {
            "outlinewidth": 0,
            "ticks": ""
           }
          },
          "colorscale": {
           "diverging": [
            [
             0,
             "#8e0152"
            ],
            [
             0.1,
             "#c51b7d"
            ],
            [
             0.2,
             "#de77ae"
            ],
            [
             0.3,
             "#f1b6da"
            ],
            [
             0.4,
             "#fde0ef"
            ],
            [
             0.5,
             "#f7f7f7"
            ],
            [
             0.6,
             "#e6f5d0"
            ],
            [
             0.7,
             "#b8e186"
            ],
            [
             0.8,
             "#7fbc41"
            ],
            [
             0.9,
             "#4d9221"
            ],
            [
             1,
             "#276419"
            ]
           ],
           "sequential": [
            [
             0,
             "#0d0887"
            ],
            [
             0.1111111111111111,
             "#46039f"
            ],
            [
             0.2222222222222222,
             "#7201a8"
            ],
            [
             0.3333333333333333,
             "#9c179e"
            ],
            [
             0.4444444444444444,
             "#bd3786"
            ],
            [
             0.5555555555555556,
             "#d8576b"
            ],
            [
             0.6666666666666666,
             "#ed7953"
            ],
            [
             0.7777777777777778,
             "#fb9f3a"
            ],
            [
             0.8888888888888888,
             "#fdca26"
            ],
            [
             1,
             "#f0f921"
            ]
           ],
           "sequentialminus": [
            [
             0,
             "#0d0887"
            ],
            [
             0.1111111111111111,
             "#46039f"
            ],
            [
             0.2222222222222222,
             "#7201a8"
            ],
            [
             0.3333333333333333,
             "#9c179e"
            ],
            [
             0.4444444444444444,
             "#bd3786"
            ],
            [
             0.5555555555555556,
             "#d8576b"
            ],
            [
             0.6666666666666666,
             "#ed7953"
            ],
            [
             0.7777777777777778,
             "#fb9f3a"
            ],
            [
             0.8888888888888888,
             "#fdca26"
            ],
            [
             1,
             "#f0f921"
            ]
           ]
          },
          "colorway": [
           "#636efa",
           "#EF553B",
           "#00cc96",
           "#ab63fa",
           "#FFA15A",
           "#19d3f3",
           "#FF6692",
           "#B6E880",
           "#FF97FF",
           "#FECB52"
          ],
          "font": {
           "color": "#2a3f5f"
          },
          "geo": {
           "bgcolor": "white",
           "lakecolor": "white",
           "landcolor": "#E5ECF6",
           "showlakes": true,
           "showland": true,
           "subunitcolor": "white"
          },
          "hoverlabel": {
           "align": "left"
          },
          "hovermode": "closest",
          "mapbox": {
           "style": "light"
          },
          "paper_bgcolor": "white",
          "plot_bgcolor": "#E5ECF6",
          "polar": {
           "angularaxis": {
            "gridcolor": "white",
            "linecolor": "white",
            "ticks": ""
           },
           "bgcolor": "#E5ECF6",
           "radialaxis": {
            "gridcolor": "white",
            "linecolor": "white",
            "ticks": ""
           }
          },
          "scene": {
           "xaxis": {
            "backgroundcolor": "#E5ECF6",
            "gridcolor": "white",
            "gridwidth": 2,
            "linecolor": "white",
            "showbackground": true,
            "ticks": "",
            "zerolinecolor": "white"
           },
           "yaxis": {
            "backgroundcolor": "#E5ECF6",
            "gridcolor": "white",
            "gridwidth": 2,
            "linecolor": "white",
            "showbackground": true,
            "ticks": "",
            "zerolinecolor": "white"
           },
           "zaxis": {
            "backgroundcolor": "#E5ECF6",
            "gridcolor": "white",
            "gridwidth": 2,
            "linecolor": "white",
            "showbackground": true,
            "ticks": "",
            "zerolinecolor": "white"
           }
          },
          "shapedefaults": {
           "line": {
            "color": "#2a3f5f"
           }
          },
          "ternary": {
           "aaxis": {
            "gridcolor": "white",
            "linecolor": "white",
            "ticks": ""
           },
           "baxis": {
            "gridcolor": "white",
            "linecolor": "white",
            "ticks": ""
           },
           "bgcolor": "#E5ECF6",
           "caxis": {
            "gridcolor": "white",
            "linecolor": "white",
            "ticks": ""
           }
          },
          "title": {
           "x": 0.05
          },
          "xaxis": {
           "automargin": true,
           "gridcolor": "white",
           "linecolor": "white",
           "ticks": "",
           "title": {
            "standoff": 15
           },
           "zerolinecolor": "white",
           "zerolinewidth": 2
          },
          "yaxis": {
           "automargin": true,
           "gridcolor": "white",
           "linecolor": "white",
           "ticks": "",
           "title": {
            "standoff": 15
           },
           "zerolinecolor": "white",
           "zerolinewidth": 2
          }
         }
        },
        "xaxis": {
         "anchor": "y",
         "autorange": true,
         "domain": [
          0,
          1
         ],
         "range": [
          -5294335.555555556,
          5294335.555555556
         ],
         "title": {
          "text": "number"
         },
         "type": "linear"
        },
        "yaxis": {
         "anchor": "x",
         "autorange": true,
         "domain": [
          0,
          1
         ],
         "range": [
          2.5,
          -0.5
         ],
         "title": {
          "text": "stage"
         },
         "type": "category"
        }
       }
      },
      "image/png": "[encoded data removed]",
      "text/html": [
       "<div>                            <div id=\"aaf4273e-d419-4a0f-ac47-53553c3ef3d0\" class=\"plotly-graph-div\" style=\"height:525px; width:100%;\"></div>            <script type=\"text/javascript\">                require([\"plotly\"], function(Plotly) {                    window.PLOTLYENV=window.PLOTLYENV || {};                                    if (document.getElementById(\"aaf4273e-d419-4a0f-ac47-53553c3ef3d0\")) {                    Plotly.newPlot(                        \"aaf4273e-d419-4a0f-ac47-53553c3ef3d0\",                        [{\"hovertemplate\":\"number=%{x}\\u003cbr\\u003estage=%{y}\\u003cextra\\u003e\\u003c\\u002fextra\\u003e\",\"legendgroup\":\"\",\"marker\":{\"color\":\"#636efa\"},\"name\":\"\",\"orientation\":\"h\",\"showlegend\":false,\"x\":[9529804,1227539,558490],\"xaxis\":\"x\",\"y\":[\"view\",\"cart\",\"purchase\"],\"yaxis\":\"y\",\"type\":\"funnel\"}],                        {\"template\":{\"data\":{\"histogram2dcontour\":[{\"type\":\"histogram2dcontour\",\"colorbar\":{\"outlinewidth\":0,\"ticks\":\"\"},\"colorscale\":[[0.0,\"#0d0887\"],[0.1111111111111111,\"#46039f\"],[0.2222222222222222,\"#7201a8\"],[0.3333333333333333,\"#9c179e\"],[0.4444444444444444,\"#bd3786\"],[0.5555555555555556,\"#d8576b\"],[0.6666666666666666,\"#ed7953\"],[0.7777777777777778,\"#fb9f3a\"],[0.8888888888888888,\"#fdca26\"],[1.0,\"#f0f921\"]]}],\"choropleth\":[{\"type\":\"choropleth\",\"colorbar\":{\"outlinewidth\":0,\"ticks\":\"\"}}],\"histogram2d\":[{\"type\":\"histogram2d\",\"colorbar\":{\"outlinewidth\":0,\"ticks\":\"\"},\"colorscale\":[[0.0,\"#0d0887\"],[0.1111111111111111,\"#46039f\"],[0.2222222222222222,\"#7201a8\"],[0.3333333333333333,\"#9c179e\"],[0.4444444444444444,\"#bd3786\"],[0.5555555555555556,\"#d8576b\"],[0.6666666666666666,\"#ed7953\"],[0.7777777777777778,\"#fb9f3a\"],[0.8888888888888888,\"#fdca26\"],[1.0,\"#f0f921\"]]}],\"heatmap\":[{\"type\":\"heatmap\",\"colorbar\":{\"outlinewidth\":0,\"ticks\":\"\"},\"colorscale\":[[0.0,\"#0d0887\"],[0.1111111111111111,\"#46039f\"],[0.2222222222222222,\"#7201a8\"],[0.3333333333333333,\"#9c179e\"],[0.4444444444444444,\"#bd3786\"],[0.5555555555555556,\"#d8576b\"],[0.6666666666666666,\"#ed7953\"],[0.7777777777777778,\"#fb9f3a\"],[0.8888888888888888,\"#fdca26\"],[1.0,\"#f0f921\"]]}],\"heatmapgl\":[{\"type\":\"heatmapgl\",\"colorbar\":{\"outlinewidth\":0,\"ticks\":\"\"},\"colorscale\":[[0.0,\"#0d0887\"],[0.1111111111111111,\"#46039f\"],[0.2222222222222222,\"#7201a8\"],[0.3333333333333333,\"#9c179e\"],[0.4444444444444444,\"#bd3786\"],[0.5555555555555556,\"#d8576b\"],[0.6666666666666666,\"#ed7953\"],[0.7777777777777778,\"#fb9f3a\"],[0.8888888888888888,\"#fdca26\"],[1.0,\"#f0f921\"]]}],\"contourcarpet\":[{\"type\":\"contourcarpet\",\"colorbar\":{\"outlinewidth\":0,\"ticks\":\"\"}}],\"contour\":[{\"type\":\"contour\",\"colorbar\":{\"outlinewidth\":0,\"ticks\":\"\"},\"colorscale\":[[0.0,\"#0d0887\"],[0.1111111111111111,\"#46039f\"],[0.2222222222222222,\"#7201a8\"],[0.3333333333333333,\"#9c179e\"],[0.4444444444444444,\"#bd3786\"],[0.5555555555555556,\"#d8576b\"],[0.6666666666666666,\"#ed7953\"],[0.7777777777777778,\"#fb9f3a\"],[0.8888888888888888,\"#fdca26\"],[1.0,\"#f0f921\"]]}],\"surface\":[{\"type\":\"surface\",\"colorbar\":{\"outlinewidth\":0,\"ticks\":\"\"},\"colorscale\":[[0.0,\"#0d0887\"],[0.1111111111111111,\"#46039f\"],[0.2222222222222222,\"#7201a8\"],[0.3333333333333333,\"#9c179e\"],[0.4444444444444444,\"#bd3786\"],[0.5555555555555556,\"#d8576b\"],[0.6666666666666666,\"#ed7953\"],[0.7777777777777778,\"#fb9f3a\"],[0.8888888888888888,\"#fdca26\"],[1.0,\"#f0f921\"]]}],\"mesh3d\":[{\"type\":\"mesh3d\",\"colorbar\":{\"outlinewidth\":0,\"ticks\":\"\"}}],\"scatter\":[{\"fillpattern\":{\"fillmode\":\"overlay\",\"size\":10,\"solidity\":0.2},\"type\":\"scatter\"}],\"parcoords\":[{\"type\":\"parcoords\",\"line\":{\"colorbar\":{\"outlinewidth\":0,\"ticks\":\"\"}}}],\"scatterpolargl\":[{\"type\":\"scatterpolargl\",\"marker\":{\"colorbar\":{\"outlinewidth\":0,\"ticks\":\"\"}}}],\"bar\":[{\"error_x\":{\"color\":\"#2a3f5f\"},\"error_y\":{\"color\":\"#2a3f5f\"},\"marker\":{\"line\":{\"color\":\"#E5ECF6\",\"width\":0.5},\"pattern\":{\"fillmode\":\"overlay\",\"size\":10,\"solidity\":0.2}},\"type\":\"bar\"}],\"scattergeo\":[{\"type\":\"scattergeo\",\"marker\":{\"colorbar\":{\"outlinewidth\":0,\"ticks\":\"\"}}}],\"scatterpolar\":[{\"type\":\"scatterpolar\",\"marker\":{\"colorbar\":{\"outlinewidth\":0,\"ticks\":\"\"}}}],\"histogram\":[{\"marker\":{\"pattern\":{\"fillmode\":\"overlay\",\"size\":10,\"solidity\":0.2}},\"type\":\"histogram\"}],\"scattergl\":[{\"type\":\"scattergl\",\"marker\":{\"colorbar\":{\"outlinewidth\":0,\"ticks\":\"\"}}}],\"scatter3d\":[{\"type\":\"scatter3d\",\"line\":{\"colorbar\":{\"outlinewidth\":0,\"ticks\":\"\"}},\"marker\":{\"colorbar\":{\"outlinewidth\":0,\"ticks\":\"\"}}}],\"scattermapbox\":[{\"type\":\"scattermapbox\",\"marker\":{\"colorbar\":{\"outlinewidth\":0,\"ticks\":\"\"}}}],\"scatterternary\":[{\"type\":\"scatterternary\",\"marker\":{\"colorbar\":{\"outlinewidth\":0,\"ticks\":\"\"}}}],\"scattercarpet\":[{\"type\":\"scattercarpet\",\"marker\":{\"colorbar\":{\"outlinewidth\":0,\"ticks\":\"\"}}}],\"carpet\":[{\"aaxis\":{\"endlinecolor\":\"#2a3f5f\",\"gridcolor\":\"white\",\"linecolor\":\"white\",\"minorgridcolor\":\"white\",\"startlinecolor\":\"#2a3f5f\"},\"baxis\":{\"endlinecolor\":\"#2a3f5f\",\"gridcolor\":\"white\",\"linecolor\":\"white\",\"minorgridcolor\":\"white\",\"startlinecolor\":\"#2a3f5f\"},\"type\":\"carpet\"}],\"table\":[{\"cells\":{\"fill\":{\"color\":\"#EBF0F8\"},\"line\":{\"color\":\"white\"}},\"header\":{\"fill\":{\"color\":\"#C8D4E3\"},\"line\":{\"color\":\"white\"}},\"type\":\"table\"}],\"barpolar\":[{\"marker\":{\"line\":{\"color\":\"#E5ECF6\",\"width\":0.5},\"pattern\":{\"fillmode\":\"overlay\",\"size\":10,\"solidity\":0.2}},\"type\":\"barpolar\"}],\"pie\":[{\"automargin\":true,\"type\":\"pie\"}]},\"layout\":{\"autotypenumbers\":\"strict\",\"colorway\":[\"#636efa\",\"#EF553B\",\"#00cc96\",\"#ab63fa\",\"#FFA15A\",\"#19d3f3\",\"#FF6692\",\"#B6E880\",\"#FF97FF\",\"#FECB52\"],\"font\":{\"color\":\"#2a3f5f\"},\"hovermode\":\"closest\",\"hoverlabel\":{\"align\":\"left\"},\"paper_bgcolor\":\"white\",\"plot_bgcolor\":\"#E5ECF6\",\"polar\":{\"bgcolor\":\"#E5ECF6\",\"angularaxis\":{\"gridcolor\":\"white\",\"linecolor\":\"white\",\"ticks\":\"\"},\"radialaxis\":{\"gridcolor\":\"white\",\"linecolor\":\"white\",\"ticks\":\"\"}},\"ternary\":{\"bgcolor\":\"#E5ECF6\",\"aaxis\":{\"gridcolor\":\"white\",\"linecolor\":\"white\",\"ticks\":\"\"},\"baxis\":{\"gridcolor\":\"white\",\"linecolor\":\"white\",\"ticks\":\"\"},\"caxis\":{\"gridcolor\":\"white\",\"linecolor\":\"white\",\"ticks\":\"\"}},\"coloraxis\":{\"colorbar\":{\"outlinewidth\":0,\"ticks\":\"\"}},\"colorscale\":{\"sequential\":[[0.0,\"#0d0887\"],[0.1111111111111111,\"#46039f\"],[0.2222222222222222,\"#7201a8\"],[0.3333333333333333,\"#9c179e\"],[0.4444444444444444,\"#bd3786\"],[0.5555555555555556,\"#d8576b\"],[0.6666666666666666,\"#ed7953\"],[0.7777777777777778,\"#fb9f3a\"],[0.8888888888888888,\"#fdca26\"],[1.0,\"#f0f921\"]],\"sequentialminus\":[[0.0,\"#0d0887\"],[0.1111111111111111,\"#46039f\"],[0.2222222222222222,\"#7201a8\"],[0.3333333333333333,\"#9c179e\"],[0.4444444444444444,\"#bd3786\"],[0.5555555555555556,\"#d8576b\"],[0.6666666666666666,\"#ed7953\"],[0.7777777777777778,\"#fb9f3a\"],[0.8888888888888888,\"#fdca26\"],[1.0,\"#f0f921\"]],\"diverging\":[[0,\"#8e0152\"],[0.1,\"#c51b7d\"],[0.2,\"#de77ae\"],[0.3,\"#f1b6da\"],[0.4,\"#fde0ef\"],[0.5,\"#f7f7f7\"],[0.6,\"#e6f5d0\"],[0.7,\"#b8e186\"],[0.8,\"#7fbc41\"],[0.9,\"#4d9221\"],[1,\"#276419\"]]},\"xaxis\":{\"gridcolor\":\"white\",\"linecolor\":\"white\",\"ticks\":\"\",\"title\":{\"standoff\":15},\"zerolinecolor\":\"white\",\"automargin\":true,\"zerolinewidth\":2},\"yaxis\":{\"gridcolor\":\"white\",\"linecolor\":\"white\",\"ticks\":\"\",\"title\":{\"standoff\":15},\"zerolinecolor\":\"white\",\"automargin\":true,\"zerolinewidth\":2},\"scene\":{\"xaxis\":{\"backgroundcolor\":\"#E5ECF6\",\"gridcolor\":\"white\",\"linecolor\":\"white\",\"showbackground\":true,\"ticks\":\"\",\"zerolinecolor\":\"white\",\"gridwidth\":2},\"yaxis\":{\"backgroundcolor\":\"#E5ECF6\",\"gridcolor\":\"white\",\"linecolor\":\"white\",\"showbackground\":true,\"ticks\":\"\",\"zerolinecolor\":\"white\",\"gridwidth\":2},\"zaxis\":{\"backgroundcolor\":\"#E5ECF6\",\"gridcolor\":\"white\",\"linecolor\":\"white\",\"showbackground\":true,\"ticks\":\"\",\"zerolinecolor\":\"white\",\"gridwidth\":2}},\"shapedefaults\":{\"line\":{\"color\":\"#2a3f5f\"}},\"annotationdefaults\":{\"arrowcolor\":\"#2a3f5f\",\"arrowhead\":0,\"arrowwidth\":1},\"geo\":{\"bgcolor\":\"white\",\"landcolor\":\"#E5ECF6\",\"subunitcolor\":\"white\",\"showland\":true,\"showlakes\":true,\"lakecolor\":\"white\"},\"title\":{\"x\":0.05},\"mapbox\":{\"style\":\"light\"}}},\"xaxis\":{\"anchor\":\"y\",\"domain\":[0.0,1.0],\"title\":{\"text\":\"number\"}},\"yaxis\":{\"anchor\":\"x\",\"domain\":[0.0,1.0],\"title\":{\"text\":\"stage\"}},\"legend\":{\"tracegroupgap\":0},\"margin\":{\"t\":60}},                        {\"responsive\": true}                    ).then(function(){\n",
       "                            \n",
       "var gd = document.getElementById('aaf4273e-d419-4a0f-ac47-53553c3ef3d0');\n",
       "var x = new MutationObserver(function (mutations, observer) {{\n",
       "        var display = window.getComputedStyle(gd).display;\n",
       "        if (!display || display === 'none') {{\n",
       "            console.log([gd, 'removed!']);\n",
       "            Plotly.purge(gd);\n",
       "            observer.disconnect();\n",
       "        }}\n",
       "}});\n",
       "\n",
       "// Listen for the removal of the full notebook cells\n",
       "var notebookContainer = gd.closest('#notebook-container');\n",
       "if (notebookContainer) {{\n",
       "    x.observe(notebookContainer, {childList: true});\n",
       "}}\n",
       "\n",
       "// Listen for the clearing of the current output cell\n",
       "var outputEl = gd.closest('.output');\n",
       "if (outputEl) {{\n",
       "    x.observe(outputEl, {childList: true});\n",
       "}}\n",
       "\n",
       "                        })                };                });            </script>        </div>"
      ]
     },
     "metadata": {},
     "output_type": "display_data"
    }
   ],
   "source": [
    "step_values = [funnel_event_time[col].notna().sum() for col in funnel_event_time.columns]\n",
    "\n",
    "# funnel 수치 시각화\n",
    "data = dict(number=step_values, \n",
    "            stage=list(funnel_event_time.columns))\n",
    "fig = px.funnel(data, x='number', y='stage')\n",
    "fig.show()"
   ]
  },
  {
   "cell_type": "code",
   "execution_count": 23,
   "id": "842464c6-eabd-4c4f-8c72-da0a51a72497",
   "metadata": {},
   "outputs": [
    {
     "data": {
      "text/html": [
       "<div>\n",
       "<style scoped>\n",
       "    .dataframe tbody tr th:only-of-type {\n",
       "        vertical-align: middle;\n",
       "    }\n",
       "\n",
       "    .dataframe tbody tr th {\n",
       "        vertical-align: top;\n",
       "    }\n",
       "\n",
       "    .dataframe thead th {\n",
       "        text-align: right;\n",
       "    }\n",
       "</style>\n",
       "<table border=\"1\" class=\"dataframe\">\n",
       "  <thead>\n",
       "    <tr style=\"text-align: right;\">\n",
       "      <th></th>\n",
       "      <th>view</th>\n",
       "      <th>cart</th>\n",
       "      <th>purchase</th>\n",
       "    </tr>\n",
       "    <tr>\n",
       "      <th>user_session</th>\n",
       "      <th></th>\n",
       "      <th></th>\n",
       "      <th></th>\n",
       "    </tr>\n",
       "  </thead>\n",
       "  <tbody>\n",
       "    <tr>\n",
       "      <th>0000009d-1f5b-40b9-bd23-db4f3d973ae3</th>\n",
       "      <td>1422.100000</td>\n",
       "      <td>NaN</td>\n",
       "      <td>NaN</td>\n",
       "    </tr>\n",
       "    <tr>\n",
       "      <th>000001d5-f8f8-4e40-b8d6-224155713521</th>\n",
       "      <td>308.630000</td>\n",
       "      <td>NaN</td>\n",
       "      <td>NaN</td>\n",
       "    </tr>\n",
       "    <tr>\n",
       "      <th>00000510-834a-498a-9bed-561a90c5125e</th>\n",
       "      <td>69.170000</td>\n",
       "      <td>NaN</td>\n",
       "      <td>NaN</td>\n",
       "    </tr>\n",
       "    <tr>\n",
       "      <th>00000616-f016-4c01-b323-438486d9d3ee</th>\n",
       "      <td>905.213333</td>\n",
       "      <td>NaN</td>\n",
       "      <td>NaN</td>\n",
       "    </tr>\n",
       "    <tr>\n",
       "      <th>000007b4-6d31-4590-b88f-0f68d1cee73c</th>\n",
       "      <td>509.563333</td>\n",
       "      <td>NaN</td>\n",
       "      <td>NaN</td>\n",
       "    </tr>\n",
       "    <tr>\n",
       "      <th>...</th>\n",
       "      <td>...</td>\n",
       "      <td>...</td>\n",
       "      <td>...</td>\n",
       "    </tr>\n",
       "    <tr>\n",
       "      <th>fffff826-edc8-4d19-9dd7-936ef133bc89</th>\n",
       "      <td>317.860000</td>\n",
       "      <td>NaN</td>\n",
       "      <td>NaN</td>\n",
       "    </tr>\n",
       "    <tr>\n",
       "      <th>fffff956-3426-4d37-9de9-4c00ec4ddeac</th>\n",
       "      <td>279.850625</td>\n",
       "      <td>NaN</td>\n",
       "      <td>NaN</td>\n",
       "    </tr>\n",
       "    <tr>\n",
       "      <th>fffffbbe-9f76-403b-b17c-e7c68c48ea1c</th>\n",
       "      <td>260.925000</td>\n",
       "      <td>NaN</td>\n",
       "      <td>NaN</td>\n",
       "    </tr>\n",
       "    <tr>\n",
       "      <th>fffffd01-5f95-4916-b2dd-491c603d6c9c</th>\n",
       "      <td>128.420000</td>\n",
       "      <td>128.42</td>\n",
       "      <td>128.42</td>\n",
       "    </tr>\n",
       "    <tr>\n",
       "      <th>fffffde2-4522-4b44-8a32-510c55739ba1</th>\n",
       "      <td>231.640000</td>\n",
       "      <td>NaN</td>\n",
       "      <td>NaN</td>\n",
       "    </tr>\n",
       "  </tbody>\n",
       "</table>\n",
       "<p>9537695 rows × 3 columns</p>\n",
       "</div>"
      ],
      "text/plain": [
       "                                             view    cart  purchase\n",
       "user_session                                                       \n",
       "0000009d-1f5b-40b9-bd23-db4f3d973ae3  1422.100000     NaN       NaN\n",
       "000001d5-f8f8-4e40-b8d6-224155713521   308.630000     NaN       NaN\n",
       "00000510-834a-498a-9bed-561a90c5125e    69.170000     NaN       NaN\n",
       "00000616-f016-4c01-b323-438486d9d3ee   905.213333     NaN       NaN\n",
       "000007b4-6d31-4590-b88f-0f68d1cee73c   509.563333     NaN       NaN\n",
       "...                                           ...     ...       ...\n",
       "fffff826-edc8-4d19-9dd7-936ef133bc89   317.860000     NaN       NaN\n",
       "fffff956-3426-4d37-9de9-4c00ec4ddeac   279.850625     NaN       NaN\n",
       "fffffbbe-9f76-403b-b17c-e7c68c48ea1c   260.925000     NaN       NaN\n",
       "fffffd01-5f95-4916-b2dd-491c603d6c9c   128.420000  128.42    128.42\n",
       "fffffde2-4522-4b44-8a32-510c55739ba1   231.640000     NaN       NaN\n",
       "\n",
       "[9537695 rows x 3 columns]"
      ]
     },
     "execution_count": 23,
     "metadata": {},
     "output_type": "execute_result"
    }
   ],
   "source": [
    "# 세션 id별로 다음 단계로의 진행 여부 확인\n",
    "funnel_price = group_df.reset_index().pivot(index='user_session', columns='steps', values='price')\n",
    "funnel_price.columns = funnel_steps.index\n",
    "funnel_price"
   ]
  },
  {
   "cell_type": "code",
   "execution_count": 24,
   "id": "0a013d88-03b0-43bc-85df-859bb9f3d096",
   "metadata": {},
   "outputs": [
    {
     "data": {
      "text/html": [
       "<div>\n",
       "<style scoped>\n",
       "    .dataframe tbody tr th:only-of-type {\n",
       "        vertical-align: middle;\n",
       "    }\n",
       "\n",
       "    .dataframe tbody tr th {\n",
       "        vertical-align: top;\n",
       "    }\n",
       "\n",
       "    .dataframe thead th {\n",
       "        text-align: right;\n",
       "    }\n",
       "</style>\n",
       "<table border=\"1\" class=\"dataframe\">\n",
       "  <thead>\n",
       "    <tr style=\"text-align: right;\">\n",
       "      <th></th>\n",
       "      <th>price</th>\n",
       "    </tr>\n",
       "    <tr>\n",
       "      <th>user_session</th>\n",
       "      <th></th>\n",
       "    </tr>\n",
       "  </thead>\n",
       "  <tbody>\n",
       "    <tr>\n",
       "      <th>0000009d-1f5b-40b9-bd23-db4f3d973ae3</th>\n",
       "      <td>1422.100000</td>\n",
       "    </tr>\n",
       "    <tr>\n",
       "      <th>000001d5-f8f8-4e40-b8d6-224155713521</th>\n",
       "      <td>308.630000</td>\n",
       "    </tr>\n",
       "    <tr>\n",
       "      <th>00000510-834a-498a-9bed-561a90c5125e</th>\n",
       "      <td>69.170000</td>\n",
       "    </tr>\n",
       "    <tr>\n",
       "      <th>00000616-f016-4c01-b323-438486d9d3ee</th>\n",
       "      <td>905.213333</td>\n",
       "    </tr>\n",
       "    <tr>\n",
       "      <th>000007b4-6d31-4590-b88f-0f68d1cee73c</th>\n",
       "      <td>509.563333</td>\n",
       "    </tr>\n",
       "    <tr>\n",
       "      <th>...</th>\n",
       "      <td>...</td>\n",
       "    </tr>\n",
       "    <tr>\n",
       "      <th>fffff826-edc8-4d19-9dd7-936ef133bc89</th>\n",
       "      <td>317.860000</td>\n",
       "    </tr>\n",
       "    <tr>\n",
       "      <th>fffff956-3426-4d37-9de9-4c00ec4ddeac</th>\n",
       "      <td>279.850625</td>\n",
       "    </tr>\n",
       "    <tr>\n",
       "      <th>fffffbbe-9f76-403b-b17c-e7c68c48ea1c</th>\n",
       "      <td>260.925000</td>\n",
       "    </tr>\n",
       "    <tr>\n",
       "      <th>fffffd01-5f95-4916-b2dd-491c603d6c9c</th>\n",
       "      <td>128.420000</td>\n",
       "    </tr>\n",
       "    <tr>\n",
       "      <th>fffffde2-4522-4b44-8a32-510c55739ba1</th>\n",
       "      <td>231.640000</td>\n",
       "    </tr>\n",
       "  </tbody>\n",
       "</table>\n",
       "<p>9537695 rows × 1 columns</p>\n",
       "</div>"
      ],
      "text/plain": [
       "                                            price\n",
       "user_session                                     \n",
       "0000009d-1f5b-40b9-bd23-db4f3d973ae3  1422.100000\n",
       "000001d5-f8f8-4e40-b8d6-224155713521   308.630000\n",
       "00000510-834a-498a-9bed-561a90c5125e    69.170000\n",
       "00000616-f016-4c01-b323-438486d9d3ee   905.213333\n",
       "000007b4-6d31-4590-b88f-0f68d1cee73c   509.563333\n",
       "...                                           ...\n",
       "fffff826-edc8-4d19-9dd7-936ef133bc89   317.860000\n",
       "fffff956-3426-4d37-9de9-4c00ec4ddeac   279.850625\n",
       "fffffbbe-9f76-403b-b17c-e7c68c48ea1c   260.925000\n",
       "fffffd01-5f95-4916-b2dd-491c603d6c9c   128.420000\n",
       "fffffde2-4522-4b44-8a32-510c55739ba1   231.640000\n",
       "\n",
       "[9537695 rows x 1 columns]"
      ]
     },
     "execution_count": 24,
     "metadata": {},
     "output_type": "execute_result"
    }
   ],
   "source": [
    "# 새로운 price 열 생성: view 가격을 사용하고, NaN인 경우 cart 또는 purchase 가격을 사용\n",
    "funnel_price['price'] = funnel_price['view'].combine_first(funnel_price['cart']).combine_first(funnel_price['purchase'])\n",
    "\n",
    "# 필요한 열만 남기기\n",
    "funnel_price = funnel_price[['price']]\n",
    "\n",
    "funnel_price"
   ]
  },
  {
   "cell_type": "code",
   "execution_count": 25,
   "id": "9d41e79d-9ec4-450e-ada6-402de23818dc",
   "metadata": {},
   "outputs": [
    {
     "data": {
      "text/html": [
       "<div>\n",
       "<style scoped>\n",
       "    .dataframe tbody tr th:only-of-type {\n",
       "        vertical-align: middle;\n",
       "    }\n",
       "\n",
       "    .dataframe tbody tr th {\n",
       "        vertical-align: top;\n",
       "    }\n",
       "\n",
       "    .dataframe thead tr th {\n",
       "        text-align: left;\n",
       "    }\n",
       "\n",
       "    .dataframe thead tr:last-of-type th {\n",
       "        text-align: right;\n",
       "    }\n",
       "</style>\n",
       "<table border=\"1\" class=\"dataframe\">\n",
       "  <thead>\n",
       "    <tr>\n",
       "      <th></th>\n",
       "      <th colspan=\"3\" halign=\"left\">event_time</th>\n",
       "      <th>price</th>\n",
       "    </tr>\n",
       "    <tr>\n",
       "      <th></th>\n",
       "      <th>view</th>\n",
       "      <th>cart</th>\n",
       "      <th>purchase</th>\n",
       "      <th>price</th>\n",
       "    </tr>\n",
       "    <tr>\n",
       "      <th>user_session</th>\n",
       "      <th></th>\n",
       "      <th></th>\n",
       "      <th></th>\n",
       "      <th></th>\n",
       "    </tr>\n",
       "  </thead>\n",
       "  <tbody>\n",
       "    <tr>\n",
       "      <th>0000009d-1f5b-40b9-bd23-db4f3d973ae3</th>\n",
       "      <td>2019-11-13 06:02:54</td>\n",
       "      <td>NaT</td>\n",
       "      <td>NaT</td>\n",
       "      <td>1422.100000</td>\n",
       "    </tr>\n",
       "    <tr>\n",
       "      <th>000001d5-f8f8-4e40-b8d6-224155713521</th>\n",
       "      <td>2019-11-09 13:58:06</td>\n",
       "      <td>NaT</td>\n",
       "      <td>NaT</td>\n",
       "      <td>308.630000</td>\n",
       "    </tr>\n",
       "    <tr>\n",
       "      <th>00000510-834a-498a-9bed-561a90c5125e</th>\n",
       "      <td>2019-11-02 13:29:04</td>\n",
       "      <td>NaT</td>\n",
       "      <td>NaT</td>\n",
       "      <td>69.170000</td>\n",
       "    </tr>\n",
       "    <tr>\n",
       "      <th>00000616-f016-4c01-b323-438486d9d3ee</th>\n",
       "      <td>2019-11-17 05:36:28</td>\n",
       "      <td>NaT</td>\n",
       "      <td>NaT</td>\n",
       "      <td>905.213333</td>\n",
       "    </tr>\n",
       "    <tr>\n",
       "      <th>000007b4-6d31-4590-b88f-0f68d1cee73c</th>\n",
       "      <td>2019-11-16 08:11:45</td>\n",
       "      <td>NaT</td>\n",
       "      <td>NaT</td>\n",
       "      <td>509.563333</td>\n",
       "    </tr>\n",
       "    <tr>\n",
       "      <th>...</th>\n",
       "      <td>...</td>\n",
       "      <td>...</td>\n",
       "      <td>...</td>\n",
       "      <td>...</td>\n",
       "    </tr>\n",
       "    <tr>\n",
       "      <th>fffff826-edc8-4d19-9dd7-936ef133bc89</th>\n",
       "      <td>2019-11-22 02:21:34</td>\n",
       "      <td>NaT</td>\n",
       "      <td>NaT</td>\n",
       "      <td>317.860000</td>\n",
       "    </tr>\n",
       "    <tr>\n",
       "      <th>fffff956-3426-4d37-9de9-4c00ec4ddeac</th>\n",
       "      <td>2019-11-13 03:09:08</td>\n",
       "      <td>NaT</td>\n",
       "      <td>NaT</td>\n",
       "      <td>279.850625</td>\n",
       "    </tr>\n",
       "    <tr>\n",
       "      <th>fffffbbe-9f76-403b-b17c-e7c68c48ea1c</th>\n",
       "      <td>2019-11-17 09:43:04</td>\n",
       "      <td>NaT</td>\n",
       "      <td>NaT</td>\n",
       "      <td>260.925000</td>\n",
       "    </tr>\n",
       "    <tr>\n",
       "      <th>fffffd01-5f95-4916-b2dd-491c603d6c9c</th>\n",
       "      <td>2019-11-17 14:07:11</td>\n",
       "      <td>2019-11-17 14:07:42</td>\n",
       "      <td>2019-11-17 14:12:02</td>\n",
       "      <td>128.420000</td>\n",
       "    </tr>\n",
       "    <tr>\n",
       "      <th>fffffde2-4522-4b44-8a32-510c55739ba1</th>\n",
       "      <td>2019-11-30 10:29:57</td>\n",
       "      <td>NaT</td>\n",
       "      <td>NaT</td>\n",
       "      <td>231.640000</td>\n",
       "    </tr>\n",
       "  </tbody>\n",
       "</table>\n",
       "<p>9537695 rows × 4 columns</p>\n",
       "</div>"
      ],
      "text/plain": [
       "                                              event_time                      \\\n",
       "                                                    view                cart   \n",
       "user_session                                                                   \n",
       "0000009d-1f5b-40b9-bd23-db4f3d973ae3 2019-11-13 06:02:54                 NaT   \n",
       "000001d5-f8f8-4e40-b8d6-224155713521 2019-11-09 13:58:06                 NaT   \n",
       "00000510-834a-498a-9bed-561a90c5125e 2019-11-02 13:29:04                 NaT   \n",
       "00000616-f016-4c01-b323-438486d9d3ee 2019-11-17 05:36:28                 NaT   \n",
       "000007b4-6d31-4590-b88f-0f68d1cee73c 2019-11-16 08:11:45                 NaT   \n",
       "...                                                  ...                 ...   \n",
       "fffff826-edc8-4d19-9dd7-936ef133bc89 2019-11-22 02:21:34                 NaT   \n",
       "fffff956-3426-4d37-9de9-4c00ec4ddeac 2019-11-13 03:09:08                 NaT   \n",
       "fffffbbe-9f76-403b-b17c-e7c68c48ea1c 2019-11-17 09:43:04                 NaT   \n",
       "fffffd01-5f95-4916-b2dd-491c603d6c9c 2019-11-17 14:07:11 2019-11-17 14:07:42   \n",
       "fffffde2-4522-4b44-8a32-510c55739ba1 2019-11-30 10:29:57                 NaT   \n",
       "\n",
       "                                                                price  \n",
       "                                                purchase        price  \n",
       "user_session                                                           \n",
       "0000009d-1f5b-40b9-bd23-db4f3d973ae3                 NaT  1422.100000  \n",
       "000001d5-f8f8-4e40-b8d6-224155713521                 NaT   308.630000  \n",
       "00000510-834a-498a-9bed-561a90c5125e                 NaT    69.170000  \n",
       "00000616-f016-4c01-b323-438486d9d3ee                 NaT   905.213333  \n",
       "000007b4-6d31-4590-b88f-0f68d1cee73c                 NaT   509.563333  \n",
       "...                                                  ...          ...  \n",
       "fffff826-edc8-4d19-9dd7-936ef133bc89                 NaT   317.860000  \n",
       "fffff956-3426-4d37-9de9-4c00ec4ddeac                 NaT   279.850625  \n",
       "fffffbbe-9f76-403b-b17c-e7c68c48ea1c                 NaT   260.925000  \n",
       "fffffd01-5f95-4916-b2dd-491c603d6c9c 2019-11-17 14:12:02   128.420000  \n",
       "fffffde2-4522-4b44-8a32-510c55739ba1                 NaT   231.640000  \n",
       "\n",
       "[9537695 rows x 4 columns]"
      ]
     },
     "execution_count": 25,
     "metadata": {},
     "output_type": "execute_result"
    }
   ],
   "source": [
    "# 두 피벗 테이블 합치기\n",
    "funnel = pd.concat([funnel_event_time, funnel_price], axis=1, keys=['event_time', 'price'])\n",
    "\n",
    "funnel"
   ]
  },
  {
   "cell_type": "markdown",
   "id": "9fb4ff4e-f7a7-4498-9b66-a990b1c62415",
   "metadata": {},
   "source": [
    "**각 구매단계별 가격 비교**"
   ]
  },
  {
   "cell_type": "code",
   "execution_count": 26,
   "id": "5fa4f8cf-2832-42fa-af5e-a3ef756acb77",
   "metadata": {},
   "outputs": [
    {
     "data": {
      "text/html": [
       "<div>\n",
       "<style scoped>\n",
       "    .dataframe tbody tr th:only-of-type {\n",
       "        vertical-align: middle;\n",
       "    }\n",
       "\n",
       "    .dataframe tbody tr th {\n",
       "        vertical-align: top;\n",
       "    }\n",
       "\n",
       "    .dataframe thead tr th {\n",
       "        text-align: left;\n",
       "    }\n",
       "\n",
       "    .dataframe thead tr:last-of-type th {\n",
       "        text-align: right;\n",
       "    }\n",
       "</style>\n",
       "<table border=\"1\" class=\"dataframe\">\n",
       "  <thead>\n",
       "    <tr>\n",
       "      <th></th>\n",
       "      <th colspan=\"3\" halign=\"left\">event_time</th>\n",
       "      <th>price</th>\n",
       "    </tr>\n",
       "    <tr>\n",
       "      <th></th>\n",
       "      <th>view</th>\n",
       "      <th>cart</th>\n",
       "      <th>purchase</th>\n",
       "      <th>price</th>\n",
       "    </tr>\n",
       "    <tr>\n",
       "      <th>user_session</th>\n",
       "      <th></th>\n",
       "      <th></th>\n",
       "      <th></th>\n",
       "      <th></th>\n",
       "    </tr>\n",
       "  </thead>\n",
       "  <tbody>\n",
       "    <tr>\n",
       "      <th>0000009d-1f5b-40b9-bd23-db4f3d973ae3</th>\n",
       "      <td>2019-11-13 06:02:54</td>\n",
       "      <td>NaT</td>\n",
       "      <td>NaT</td>\n",
       "      <td>1422.100000</td>\n",
       "    </tr>\n",
       "    <tr>\n",
       "      <th>000001d5-f8f8-4e40-b8d6-224155713521</th>\n",
       "      <td>2019-11-09 13:58:06</td>\n",
       "      <td>NaT</td>\n",
       "      <td>NaT</td>\n",
       "      <td>308.630000</td>\n",
       "    </tr>\n",
       "    <tr>\n",
       "      <th>00000510-834a-498a-9bed-561a90c5125e</th>\n",
       "      <td>2019-11-02 13:29:04</td>\n",
       "      <td>NaT</td>\n",
       "      <td>NaT</td>\n",
       "      <td>69.170000</td>\n",
       "    </tr>\n",
       "    <tr>\n",
       "      <th>00000616-f016-4c01-b323-438486d9d3ee</th>\n",
       "      <td>2019-11-17 05:36:28</td>\n",
       "      <td>NaT</td>\n",
       "      <td>NaT</td>\n",
       "      <td>905.213333</td>\n",
       "    </tr>\n",
       "    <tr>\n",
       "      <th>000007b4-6d31-4590-b88f-0f68d1cee73c</th>\n",
       "      <td>2019-11-16 08:11:45</td>\n",
       "      <td>NaT</td>\n",
       "      <td>NaT</td>\n",
       "      <td>509.563333</td>\n",
       "    </tr>\n",
       "  </tbody>\n",
       "</table>\n",
       "</div>"
      ],
      "text/plain": [
       "                                              event_time                \\\n",
       "                                                    view cart purchase   \n",
       "user_session                                                             \n",
       "0000009d-1f5b-40b9-bd23-db4f3d973ae3 2019-11-13 06:02:54  NaT      NaT   \n",
       "000001d5-f8f8-4e40-b8d6-224155713521 2019-11-09 13:58:06  NaT      NaT   \n",
       "00000510-834a-498a-9bed-561a90c5125e 2019-11-02 13:29:04  NaT      NaT   \n",
       "00000616-f016-4c01-b323-438486d9d3ee 2019-11-17 05:36:28  NaT      NaT   \n",
       "000007b4-6d31-4590-b88f-0f68d1cee73c 2019-11-16 08:11:45  NaT      NaT   \n",
       "\n",
       "                                            price  \n",
       "                                            price  \n",
       "user_session                                       \n",
       "0000009d-1f5b-40b9-bd23-db4f3d973ae3  1422.100000  \n",
       "000001d5-f8f8-4e40-b8d6-224155713521   308.630000  \n",
       "00000510-834a-498a-9bed-561a90c5125e    69.170000  \n",
       "00000616-f016-4c01-b323-438486d9d3ee   905.213333  \n",
       "000007b4-6d31-4590-b88f-0f68d1cee73c   509.563333  "
      ]
     },
     "execution_count": 26,
     "metadata": {},
     "output_type": "execute_result"
    }
   ],
   "source": [
    "# 구매단계 전환없는 데이터\n",
    "funnel_not = funnel.loc[\n",
    "    (funnel[('event_time', 'cart')].isna()) & \n",
    "    (funnel[('event_time', 'purchase')].isna())\n",
    "]\n",
    "funnel_not.head()"
   ]
  },
  {
   "cell_type": "code",
   "execution_count": 27,
   "id": "2322e122-82cc-49ed-9996-37f523bdfa67",
   "metadata": {},
   "outputs": [
    {
     "data": {
      "text/html": [
       "<div>\n",
       "<style scoped>\n",
       "    .dataframe tbody tr th:only-of-type {\n",
       "        vertical-align: middle;\n",
       "    }\n",
       "\n",
       "    .dataframe tbody tr th {\n",
       "        vertical-align: top;\n",
       "    }\n",
       "\n",
       "    .dataframe thead tr th {\n",
       "        text-align: left;\n",
       "    }\n",
       "\n",
       "    .dataframe thead tr:last-of-type th {\n",
       "        text-align: right;\n",
       "    }\n",
       "</style>\n",
       "<table border=\"1\" class=\"dataframe\">\n",
       "  <thead>\n",
       "    <tr>\n",
       "      <th></th>\n",
       "      <th colspan=\"3\" halign=\"left\">event_time</th>\n",
       "      <th>price</th>\n",
       "    </tr>\n",
       "    <tr>\n",
       "      <th></th>\n",
       "      <th>view</th>\n",
       "      <th>cart</th>\n",
       "      <th>purchase</th>\n",
       "      <th>price</th>\n",
       "    </tr>\n",
       "    <tr>\n",
       "      <th>user_session</th>\n",
       "      <th></th>\n",
       "      <th></th>\n",
       "      <th></th>\n",
       "      <th></th>\n",
       "    </tr>\n",
       "  </thead>\n",
       "  <tbody>\n",
       "    <tr>\n",
       "      <th>00003d51-f077-4b44-a0cc-4e9282a439a1</th>\n",
       "      <td>2019-11-15 05:10:30</td>\n",
       "      <td>2019-11-15 05:14:24</td>\n",
       "      <td>NaT</td>\n",
       "      <td>60.090000</td>\n",
       "    </tr>\n",
       "    <tr>\n",
       "      <th>00005114-2d52-4a59-ac08-ec71bbaf24db</th>\n",
       "      <td>2019-11-17 13:28:30</td>\n",
       "      <td>2019-11-17 13:31:26</td>\n",
       "      <td>NaT</td>\n",
       "      <td>1298.707600</td>\n",
       "    </tr>\n",
       "    <tr>\n",
       "      <th>00006552-44f0-4933-b6f8-9e3ba5181169</th>\n",
       "      <td>2019-11-14 19:15:09</td>\n",
       "      <td>2019-11-14 19:19:58</td>\n",
       "      <td>NaT</td>\n",
       "      <td>520.907778</td>\n",
       "    </tr>\n",
       "    <tr>\n",
       "      <th>00007573-a16f-42f5-a83b-5a5196521580</th>\n",
       "      <td>2019-11-15 08:08:57</td>\n",
       "      <td>2019-11-15 08:09:02</td>\n",
       "      <td>NaT</td>\n",
       "      <td>348.760000</td>\n",
       "    </tr>\n",
       "    <tr>\n",
       "      <th>00007879-7a3c-4e0b-87a1-237ec203b27c</th>\n",
       "      <td>2019-11-16 04:49:47</td>\n",
       "      <td>2019-11-16 04:49:55</td>\n",
       "      <td>NaT</td>\n",
       "      <td>458.100000</td>\n",
       "    </tr>\n",
       "  </tbody>\n",
       "</table>\n",
       "</div>"
      ],
      "text/plain": [
       "                                              event_time                      \\\n",
       "                                                    view                cart   \n",
       "user_session                                                                   \n",
       "00003d51-f077-4b44-a0cc-4e9282a439a1 2019-11-15 05:10:30 2019-11-15 05:14:24   \n",
       "00005114-2d52-4a59-ac08-ec71bbaf24db 2019-11-17 13:28:30 2019-11-17 13:31:26   \n",
       "00006552-44f0-4933-b6f8-9e3ba5181169 2019-11-14 19:15:09 2019-11-14 19:19:58   \n",
       "00007573-a16f-42f5-a83b-5a5196521580 2019-11-15 08:08:57 2019-11-15 08:09:02   \n",
       "00007879-7a3c-4e0b-87a1-237ec203b27c 2019-11-16 04:49:47 2019-11-16 04:49:55   \n",
       "\n",
       "                                                     price  \n",
       "                                     purchase        price  \n",
       "user_session                                                \n",
       "00003d51-f077-4b44-a0cc-4e9282a439a1      NaT    60.090000  \n",
       "00005114-2d52-4a59-ac08-ec71bbaf24db      NaT  1298.707600  \n",
       "00006552-44f0-4933-b6f8-9e3ba5181169      NaT   520.907778  \n",
       "00007573-a16f-42f5-a83b-5a5196521580      NaT   348.760000  \n",
       "00007879-7a3c-4e0b-87a1-237ec203b27c      NaT   458.100000  "
      ]
     },
     "execution_count": 27,
     "metadata": {},
     "output_type": "execute_result"
    }
   ],
   "source": [
    "# view에서 cart로 전환되는 데이터\n",
    "view_to_cart = funnel.loc[\n",
    "    (funnel[('event_time', 'view')].notna()) & \n",
    "    (funnel[('event_time', 'cart')].notna()) & \n",
    "    (funnel[('event_time', 'purchase')].isna())\n",
    "]\n",
    "view_to_cart.head()"
   ]
  },
  {
   "cell_type": "code",
   "execution_count": 28,
   "id": "60231920-ee0c-41ac-bf1f-22c29108bdf2",
   "metadata": {},
   "outputs": [
    {
     "data": {
      "text/html": [
       "<div>\n",
       "<style scoped>\n",
       "    .dataframe tbody tr th:only-of-type {\n",
       "        vertical-align: middle;\n",
       "    }\n",
       "\n",
       "    .dataframe tbody tr th {\n",
       "        vertical-align: top;\n",
       "    }\n",
       "\n",
       "    .dataframe thead tr th {\n",
       "        text-align: left;\n",
       "    }\n",
       "\n",
       "    .dataframe thead tr:last-of-type th {\n",
       "        text-align: right;\n",
       "    }\n",
       "</style>\n",
       "<table border=\"1\" class=\"dataframe\">\n",
       "  <thead>\n",
       "    <tr>\n",
       "      <th></th>\n",
       "      <th colspan=\"3\" halign=\"left\">event_time</th>\n",
       "      <th>price</th>\n",
       "    </tr>\n",
       "    <tr>\n",
       "      <th></th>\n",
       "      <th>view</th>\n",
       "      <th>cart</th>\n",
       "      <th>purchase</th>\n",
       "      <th>price</th>\n",
       "    </tr>\n",
       "    <tr>\n",
       "      <th>user_session</th>\n",
       "      <th></th>\n",
       "      <th></th>\n",
       "      <th></th>\n",
       "      <th></th>\n",
       "    </tr>\n",
       "  </thead>\n",
       "  <tbody>\n",
       "    <tr>\n",
       "      <th>00003e3b-b365-4460-bf59-fcc0c1491c97</th>\n",
       "      <td>2019-11-11 03:35:08</td>\n",
       "      <td>2019-11-11 03:35:11</td>\n",
       "      <td>2019-11-11 03:35:34</td>\n",
       "      <td>151.610</td>\n",
       "    </tr>\n",
       "    <tr>\n",
       "      <th>00007576-a35c-4704-b276-3fecef2f6fc2</th>\n",
       "      <td>2019-11-20 14:04:50</td>\n",
       "      <td>2019-11-20 14:13:30</td>\n",
       "      <td>2019-11-20 14:15:42</td>\n",
       "      <td>152.705</td>\n",
       "    </tr>\n",
       "    <tr>\n",
       "      <th>0000b921-b911-437b-9d7f-d9c3f6010fc8</th>\n",
       "      <td>2019-11-17 07:32:58</td>\n",
       "      <td>2019-11-17 07:43:17</td>\n",
       "      <td>2019-11-17 07:49:40</td>\n",
       "      <td>795.130</td>\n",
       "    </tr>\n",
       "    <tr>\n",
       "      <th>0000c091-07d6-42b6-a7d8-75732b489429</th>\n",
       "      <td>2019-11-18 12:35:35</td>\n",
       "      <td>2019-11-18 12:36:58</td>\n",
       "      <td>2019-11-18 12:43:42</td>\n",
       "      <td>308.630</td>\n",
       "    </tr>\n",
       "    <tr>\n",
       "      <th>000188f1-b77c-4210-a164-4b4e7cd15050</th>\n",
       "      <td>2019-11-17 15:00:37</td>\n",
       "      <td>2019-11-17 15:01:25</td>\n",
       "      <td>2019-11-17 15:01:45</td>\n",
       "      <td>202.060</td>\n",
       "    </tr>\n",
       "  </tbody>\n",
       "</table>\n",
       "</div>"
      ],
      "text/plain": [
       "                                              event_time                      \\\n",
       "                                                    view                cart   \n",
       "user_session                                                                   \n",
       "00003e3b-b365-4460-bf59-fcc0c1491c97 2019-11-11 03:35:08 2019-11-11 03:35:11   \n",
       "00007576-a35c-4704-b276-3fecef2f6fc2 2019-11-20 14:04:50 2019-11-20 14:13:30   \n",
       "0000b921-b911-437b-9d7f-d9c3f6010fc8 2019-11-17 07:32:58 2019-11-17 07:43:17   \n",
       "0000c091-07d6-42b6-a7d8-75732b489429 2019-11-18 12:35:35 2019-11-18 12:36:58   \n",
       "000188f1-b77c-4210-a164-4b4e7cd15050 2019-11-17 15:00:37 2019-11-17 15:01:25   \n",
       "\n",
       "                                                            price  \n",
       "                                                purchase    price  \n",
       "user_session                                                       \n",
       "00003e3b-b365-4460-bf59-fcc0c1491c97 2019-11-11 03:35:34  151.610  \n",
       "00007576-a35c-4704-b276-3fecef2f6fc2 2019-11-20 14:15:42  152.705  \n",
       "0000b921-b911-437b-9d7f-d9c3f6010fc8 2019-11-17 07:49:40  795.130  \n",
       "0000c091-07d6-42b6-a7d8-75732b489429 2019-11-18 12:43:42  308.630  \n",
       "000188f1-b77c-4210-a164-4b4e7cd15050 2019-11-17 15:01:45  202.060  "
      ]
     },
     "execution_count": 28,
     "metadata": {},
     "output_type": "execute_result"
    }
   ],
   "source": [
    "# view에서 cart, purchase까지 이어지는 데이터\n",
    "view_to_cart_purchase = funnel.loc[\n",
    "    (funnel[('event_time', 'view')].notna()) & \n",
    "    (funnel[('event_time', 'cart')].notna()) & \n",
    "    (funnel[('event_time', 'purchase')].notna())\n",
    "]\n",
    "view_to_cart_purchase.head()"
   ]
  },
  {
   "cell_type": "markdown",
   "id": "d03bf188-2877-476e-8c1f-035973c09cf5",
   "metadata": {},
   "source": [
    "**세 가지 구매단계에서 가격이 영향을 미쳤을 것이고 차이가 날것이다**"
   ]
  },
  {
   "cell_type": "code",
   "execution_count": 34,
   "id": "c7ecb9e6-8cd4-403a-945b-e20441110d51",
   "metadata": {},
   "outputs": [
    {
     "data": {
      "image/png": "[encoded data removed]",
      "text/plain": [
       "<Figure size 800x400 with 1 Axes>"
      ]
     },
     "metadata": {},
     "output_type": "display_data"
    }
   ],
   "source": [
    "plt.figure(figsize=(8, 4))\n",
    "\n",
    "# 세 구매단계 집단의 분포 시각화\n",
    "var = 'price'\n",
    "sns.distplot(funnel_not[var], kde=True, label=f\"view만 진행된 데이터 집합 (중앙값 :{np.round(funnel_not[var].median(),2)})\")\n",
    "sns.distplot(view_to_cart[var], kde=True, label=f\"view to cart 데이터 집합 (중앙값 :{np.round(view_to_cart[var].median(),2)})\")\n",
    "sns.distplot(view_to_cart_purchase[var], kde=True, label=f\"모든 구매상태 진행 데이터 집합 (중앙값 :{np.round(view_to_cart_purchase[var].median(),2)})\")\n",
    "\n",
    "plt.title(f'{var} - 각 구매단계별 분포')\n",
    "plt.legend()\n",
    "plt.xlabel(var)\n",
    "plt.ylabel('Density')\n",
    "plt.show()"
   ]
  },
  {
   "cell_type": "markdown",
   "id": "62c2b26c-f060-4c22-935c-a82067af442f",
   "metadata": {},
   "source": [
    "- 각 단계별로 구매한 제품의 가격 중앙값이 내려가고 있음\n",
    "1. View 단계에서 비싼 가격을 보고 구매를 망설임\n",
    "2. 장바구니 담는 제품은 조금더 싼가격(더 저렴한 대안)\n",
    "3. 최종 구매 단계에서는 더 낮아진 가격대(여러 요소 고려<-저렴한 가격, 진짜 필요한가?)"
   ]
  },
  {
   "cell_type": "markdown",
   "id": "64d69b0d-758b-4c99-9bff-bee7a7b86e57",
   "metadata": {},
   "source": [
    "**각 집단 차이 분석**"
   ]
  },
  {
   "cell_type": "code",
   "execution_count": 41,
   "id": "c0e76b09-eacd-48e1-90a2-29b32c71258e",
   "metadata": {},
   "outputs": [
    {
     "name": "stdout",
     "output_type": "stream",
     "text": [
      "## 정규성 검정 결과\n",
      "view p-value: 0.0000\n",
      "cart p-value: 0.0000\n",
      "purchase p-value: 0.0000\n"
     ]
    }
   ],
   "source": [
    "from scipy.stats import shapiro\n",
    "\n",
    "# 정규성 검정\n",
    "only_view = funnel_not['price']\n",
    "view_cart = view_to_cart['price']\n",
    "view_cart_pur = view_to_cart_purchase['price']\n",
    "\n",
    "stat_1, pvalue_1 = shapiro(only_view)\n",
    "stat_2, pvalue_2 = shapiro(view_cart)\n",
    "stat_3, pvalue_3 = shapiro(view_cart_pur)\n",
    "\n",
    "print('## 정규성 검정 결과')\n",
    "print('view p-value: {:.4f}'.format(pvalue_1))\n",
    "print('cart p-value: {:.4f}'.format(pvalue_2))\n",
    "print('purchase p-value: {:.4f}'.format(pvalue_3))"
   ]
  },
  {
   "cell_type": "markdown",
   "id": "17a6e122-3104-48eb-8754-1a021b8688bb",
   "metadata": {},
   "source": [
    "- 그래프& 분석 결과 모두 확인 결과, 정규성을 가지지 않음 -> 비모수 검정"
   ]
  },
  {
   "cell_type": "code",
   "execution_count": 49,
   "id": "78476779-3404-4ad0-8083-d632d0b98b2e",
   "metadata": {},
   "outputs": [
    {
     "name": "stdout",
     "output_type": "stream",
     "text": [
      "6.631812275793366e-53\n"
     ]
    }
   ],
   "source": [
    "from scipy.stats import kruskal\n",
    "\n",
    "# 크루스칼 왈리스 검정\n",
    "stat, pvalue = kruskal(only_view, view_cart, view_cart_pur)\n",
    "print(pvalue[0])"
   ]
  },
  {
   "cell_type": "markdown",
   "id": "3661154e-fb1b-4a57-b112-c6f6539a56b7",
   "metadata": {},
   "source": [
    "- 크루스칼 왈리스 검정 결과, 집단간 가격 차이가 있다고 볼 수 있음(가격이 구매행동에 영향을 끼침) -> 사후분석 진행"
   ]
  },
  {
   "cell_type": "code",
   "execution_count": 61,
   "id": "2dd20af3-7bd9-4d15-aadb-44313d14d633",
   "metadata": {},
   "outputs": [
    {
     "data": {
      "text/html": [
       "<div>\n",
       "<style scoped>\n",
       "    .dataframe tbody tr th:only-of-type {\n",
       "        vertical-align: middle;\n",
       "    }\n",
       "\n",
       "    .dataframe tbody tr th {\n",
       "        vertical-align: top;\n",
       "    }\n",
       "\n",
       "    .dataframe thead th {\n",
       "        text-align: right;\n",
       "    }\n",
       "</style>\n",
       "<table border=\"1\" class=\"dataframe\">\n",
       "  <thead>\n",
       "    <tr style=\"text-align: right;\">\n",
       "      <th></th>\n",
       "      <th>price</th>\n",
       "      <th>group</th>\n",
       "    </tr>\n",
       "  </thead>\n",
       "  <tbody>\n",
       "    <tr>\n",
       "      <th>0</th>\n",
       "      <td>1422.100000</td>\n",
       "      <td>view</td>\n",
       "    </tr>\n",
       "    <tr>\n",
       "      <th>1</th>\n",
       "      <td>308.630000</td>\n",
       "      <td>view</td>\n",
       "    </tr>\n",
       "    <tr>\n",
       "      <th>2</th>\n",
       "      <td>69.170000</td>\n",
       "      <td>view</td>\n",
       "    </tr>\n",
       "    <tr>\n",
       "      <th>3</th>\n",
       "      <td>905.213333</td>\n",
       "      <td>view</td>\n",
       "    </tr>\n",
       "    <tr>\n",
       "      <th>4</th>\n",
       "      <td>509.563333</td>\n",
       "      <td>view</td>\n",
       "    </tr>\n",
       "  </tbody>\n",
       "</table>\n",
       "</div>"
      ],
      "text/plain": [
       "         price group\n",
       "0  1422.100000  view\n",
       "1   308.630000  view\n",
       "2    69.170000  view\n",
       "3   905.213333  view\n",
       "4   509.563333  view"
      ]
     },
     "execution_count": 61,
     "metadata": {},
     "output_type": "execute_result"
    }
   ],
   "source": [
    "# 각 구매 상태 단계 집단\n",
    "df_view = pd.DataFrame({'price': only_view['price'].reset_index(drop=True), 'group': np.repeat('view', len(only_view))})\n",
    "df_cart = pd.DataFrame({'price': view_cart['price'].reset_index(drop=True), 'group': np.repeat('cart', len(view_cart))})\n",
    "df_purchase = pd.DataFrame({'price': view_cart_pur['price'].reset_index(drop=True), 'group': np.repeat('purchase', len(view_cart_pur))})\n",
    "\n",
    "combined_data = pd.concat([df_view, df_cart, df_purchase], axis=0, ignore_index=True)\n",
    "\n",
    "# 확인\n",
    "combined_data.head()"
   ]
  },
  {
   "cell_type": "code",
   "execution_count": 66,
   "id": "6197eeea-268b-49bf-bd4d-e25494a4b6b7",
   "metadata": {},
   "outputs": [
    {
     "name": "stdout",
     "output_type": "stream",
     "text": [
      "\n",
      "Conover's Test Results:\n",
      "                   cart      purchase          view\n",
      "cart      1.000000e+00  6.175974e-26  1.277173e-53\n",
      "purchase  6.175974e-26  1.000000e+00  5.612347e-01\n",
      "view      1.277173e-53  5.612347e-01  1.000000e+00\n"
     ]
    }
   ],
   "source": [
    "from scikit_posthocs import posthoc_conover\n",
    "\n",
    "# Conover's 사후분석\n",
    "conover_results = posthoc_conover(combined_data, val_col='price', group_col='group')\n",
    "print('\\nConover\\'s Test Results:\\n', conover_results)"
   ]
  },
  {
   "cell_type": "markdown",
   "id": "4a87066f-aaa7-4ca2-803d-90df1178e750",
   "metadata": {},
   "source": [
    "- 순차적인 단계마다 고객이 다시 가격을 재검토 하는 듯 -> 거래정보 기반 고객 군 세분화해 솔루션 개발 필요"
   ]
  }
 ],
 "metadata": {
  "kernelspec": {
   "display_name": "Python 3 (ipykernel)",
   "language": "python",
   "name": "python3"
  },
  "language_info": {
   "codemirror_mode": {
    "name": "ipython",
    "version": 3
   },
   "file_extension": ".py",
   "mimetype": "text/x-python",
   "name": "python",
   "nbconvert_exporter": "python",
   "pygments_lexer": "ipython3",
   "version": "3.12.4"
  }
 },
 "nbformat": 4,
 "nbformat_minor": 5
}
